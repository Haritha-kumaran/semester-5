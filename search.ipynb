{
 "cells": [
  {
   "cell_type": "markdown",
   "id": "137238f5-7b4f-4ca3-b7ba-87e93c7b5dfd",
   "metadata": {},
   "source": [
    "# breadth first search"
   ]
  },
  {
   "cell_type": "markdown",
   "id": "376e4a39-0edd-4a24-bf80-0810a7c08914",
   "metadata": {},
   "source": [
    "Breadth-First Search can be used as a traversal method to find all the neighboring nodes in a Peer to Peer Network.\n",
    "\n"
   ]
  },
  {
   "cell_type": "markdown",
   "id": "d31d1f9c-0526-4e8f-8332-c29f1052b926",
   "metadata": {},
   "source": [
    "# queue operations"
   ]
  },
  {
   "cell_type": "code",
   "execution_count": 2,
   "id": "d354a189-59bf-46a9-b07f-e9046eec653c",
   "metadata": {},
   "outputs": [],
   "source": [
    "from collections import deque"
   ]
  },
  {
   "cell_type": "code",
   "execution_count": 3,
   "id": "928d051e-99ca-4702-ae60-864a31762af0",
   "metadata": {},
   "outputs": [],
   "source": [
    "Q=deque([\"a\",\"b\",\"c\",\"d\"])"
   ]
  },
  {
   "cell_type": "code",
   "execution_count": 4,
   "id": "e37d9958-92e4-4796-a5c7-febefb96bfd7",
   "metadata": {},
   "outputs": [],
   "source": [
    "Q.appendleft(\"0\")"
   ]
  },
  {
   "cell_type": "code",
   "execution_count": 5,
   "id": "f46bf62f-e6c8-4e26-8db6-a18082497588",
   "metadata": {},
   "outputs": [
    {
     "data": {
      "text/plain": [
       "deque(['0', 'a', 'b', 'c', 'd'])"
      ]
     },
     "execution_count": 5,
     "metadata": {},
     "output_type": "execute_result"
    }
   ],
   "source": [
    "Q"
   ]
  },
  {
   "cell_type": "code",
   "execution_count": 6,
   "id": "1b089544-a82b-406e-b83b-c2ae4b073af6",
   "metadata": {},
   "outputs": [],
   "source": [
    "Q.append(\"f\")"
   ]
  },
  {
   "cell_type": "code",
   "execution_count": 7,
   "id": "b6b832a9-4bb2-46eb-ab55-86b8558e24dd",
   "metadata": {},
   "outputs": [
    {
     "data": {
      "text/plain": [
       "deque(['0', 'a', 'b', 'c', 'd', 'f'])"
      ]
     },
     "execution_count": 7,
     "metadata": {},
     "output_type": "execute_result"
    }
   ],
   "source": [
    "Q"
   ]
  },
  {
   "cell_type": "code",
   "execution_count": 8,
   "id": "f77b17ba-377a-48cc-ad71-256eaede8010",
   "metadata": {},
   "outputs": [
    {
     "data": {
      "text/plain": [
       "'f'"
      ]
     },
     "execution_count": 8,
     "metadata": {},
     "output_type": "execute_result"
    }
   ],
   "source": [
    "Q.pop()"
   ]
  },
  {
   "cell_type": "code",
   "execution_count": 9,
   "id": "7df9ea2e-65bc-4245-9d3b-f9c2b9f1c9bd",
   "metadata": {},
   "outputs": [
    {
     "data": {
      "text/plain": [
       "deque(['0', 'a', 'b', 'c', 'd'])"
      ]
     },
     "execution_count": 9,
     "metadata": {},
     "output_type": "execute_result"
    }
   ],
   "source": [
    "Q"
   ]
  },
  {
   "cell_type": "code",
   "execution_count": 10,
   "id": "76aabb22-e3c4-4d79-acfa-636483796d87",
   "metadata": {},
   "outputs": [
    {
     "data": {
      "text/plain": [
       "'0'"
      ]
     },
     "execution_count": 10,
     "metadata": {},
     "output_type": "execute_result"
    }
   ],
   "source": [
    "Q.popleft()"
   ]
  },
  {
   "cell_type": "code",
   "execution_count": 11,
   "id": "029e1f9e-dff7-4bd2-8cf0-d62cef4c6c61",
   "metadata": {},
   "outputs": [
    {
     "data": {
      "text/plain": [
       "deque(['a', 'b', 'c', 'd'])"
      ]
     },
     "execution_count": 11,
     "metadata": {},
     "output_type": "execute_result"
    }
   ],
   "source": [
    "Q"
   ]
  },
  {
   "cell_type": "code",
   "execution_count": 15,
   "id": "f050cf91-c6c7-4d88-8b62-d9fa863607ee",
   "metadata": {},
   "outputs": [],
   "source": [
    "Q.append(\"d\")"
   ]
  },
  {
   "cell_type": "code",
   "execution_count": 16,
   "id": "ead73a13-1620-4262-b815-f29d45fc8694",
   "metadata": {},
   "outputs": [
    {
     "data": {
      "text/plain": [
       "deque(['a', 'b', 'c', 'd', 'd', 'd'])"
      ]
     },
     "execution_count": 16,
     "metadata": {},
     "output_type": "execute_result"
    }
   ],
   "source": [
    "Q"
   ]
  },
  {
   "cell_type": "code",
   "execution_count": 22,
   "id": "cbe88bcf-e2c7-4585-b7ad-5d95609bf857",
   "metadata": {},
   "outputs": [
    {
     "data": {
      "text/plain": [
       "'d'"
      ]
     },
     "execution_count": 22,
     "metadata": {},
     "output_type": "execute_result"
    }
   ],
   "source": [
    "Q.pop()"
   ]
  },
  {
   "cell_type": "code",
   "execution_count": 24,
   "id": "21751212-e7df-4aba-9fca-72ae8c753d4b",
   "metadata": {},
   "outputs": [
    {
     "data": {
      "text/plain": [
       "deque(['a', 'b', 'c'])"
      ]
     },
     "execution_count": 24,
     "metadata": {},
     "output_type": "execute_result"
    }
   ],
   "source": [
    "Q"
   ]
  },
  {
   "cell_type": "code",
   "execution_count": 25,
   "id": "20e7dfa2-45e2-4dbd-9127-bdea6144de04",
   "metadata": {},
   "outputs": [
    {
     "data": {
      "text/plain": [
       "'a'"
      ]
     },
     "execution_count": 25,
     "metadata": {},
     "output_type": "execute_result"
    }
   ],
   "source": [
    "Q[0]"
   ]
  },
  {
   "cell_type": "code",
   "execution_count": 26,
   "id": "a752f6f8-a651-46ab-a75c-57c86c922136",
   "metadata": {},
   "outputs": [
    {
     "data": {
      "text/plain": [
       "'c'"
      ]
     },
     "execution_count": 26,
     "metadata": {},
     "output_type": "execute_result"
    }
   ],
   "source": [
    "Q[-1]"
   ]
  },
  {
   "cell_type": "code",
   "execution_count": 27,
   "id": "92c7f88c-60d6-4d09-92be-611ceb90f11f",
   "metadata": {},
   "outputs": [
    {
     "data": {
      "text/plain": [
       "3"
      ]
     },
     "execution_count": 27,
     "metadata": {},
     "output_type": "execute_result"
    }
   ],
   "source": [
    "len(Q)"
   ]
  },
  {
   "cell_type": "code",
   "execution_count": 28,
   "id": "9aaf0e95-ddcf-4180-bae0-68491388da3b",
   "metadata": {},
   "outputs": [
    {
     "data": {
      "text/plain": [
       "collections.deque"
      ]
     },
     "execution_count": 28,
     "metadata": {},
     "output_type": "execute_result"
    }
   ],
   "source": [
    "type(Q)"
   ]
  },
  {
   "cell_type": "markdown",
   "id": "b4b04878-e044-4b3a-ab45-dfb46e0592e2",
   "metadata": {},
   "source": [
    "# This is our problem in the form of a graph"
   ]
  },
  {
   "cell_type": "code",
   "execution_count": 2,
   "id": "4b193ff6-6e14-4aaa-8ad5-a1712939d64a",
   "metadata": {},
   "outputs": [],
   "source": [
    "graph={\n",
    "    'sam':['Aaran','binny'],\n",
    "    'Aaran':['sam','christine','danny'],\n",
    "    'binny':['elvin','flin'],\n",
    "    'christine':['Aaran'],\n",
    "    'danny':['Aaran'],\n",
    "    'elvin':['binny','gini'],\n",
    "    'flin':['binny'],\n",
    "    'gini':['elvin'],\n",
    "}"
   ]
  },
  {
   "cell_type": "code",
   "execution_count": 3,
   "id": "4a8cbbcd-bf72-45ec-aedf-160ea933e31d",
   "metadata": {},
   "outputs": [
    {
     "data": {
      "text/plain": [
       "{'sam': ['Aaran', 'binny'],\n",
       " 'Aaran': ['sam', 'christine', 'danny'],\n",
       " 'binny': ['elvin', 'flin'],\n",
       " 'christine': ['Aaran'],\n",
       " 'danny': ['Aaran'],\n",
       " 'elvin': ['binny', 'gini'],\n",
       " 'flin': ['binny'],\n",
       " 'gini': ['elvin']}"
      ]
     },
     "execution_count": 3,
     "metadata": {},
     "output_type": "execute_result"
    }
   ],
   "source": [
    "graph"
   ]
  },
  {
   "cell_type": "code",
   "execution_count": 5,
   "id": "2404754b-6e46-412a-864e-ffe2995dfcc3",
   "metadata": {},
   "outputs": [
    {
     "data": {
      "text/plain": [
       "dict"
      ]
     },
     "execution_count": 5,
     "metadata": {},
     "output_type": "execute_result"
    }
   ],
   "source": [
    "type(graph)"
   ]
  },
  {
   "cell_type": "code",
   "execution_count": 6,
   "id": "46224772-2a10-4cb9-8dee-cad6ec01e094",
   "metadata": {},
   "outputs": [
    {
     "data": {
      "text/plain": [
       "8"
      ]
     },
     "execution_count": 6,
     "metadata": {},
     "output_type": "execute_result"
    }
   ],
   "source": [
    "len(graph)"
   ]
  },
  {
   "cell_type": "code",
   "execution_count": 22,
   "id": "ddef2c21-278b-4dc6-bf68-efd0ed517dad",
   "metadata": {},
   "outputs": [],
   "source": [
    "from collections import deque\n",
    "def bfs(graph,start,goal):\n",
    "    queue=deque([start])\n",
    "    visited=[]\n",
    "    while queue:\n",
    "        node=queue.popleft()\n",
    "        if node not in visited:\n",
    "            visited.append(node)\n",
    "            print('I have visited this node',node)\n",
    "            if node==goal:\n",
    "               print('This is my travel path',visited)\n",
    "            neighbours=graph[node]\n",
    "            for neighbour in neighbours:\n",
    "                queue.append(neighbour)\n",
    "    "
   ]
  },
  {
   "cell_type": "code",
   "execution_count": 23,
   "id": "d592e6ab-9936-44d6-8cc6-e45e0e209338",
   "metadata": {},
   "outputs": [
    {
     "name": "stdout",
     "output_type": "stream",
     "text": [
      "I have visited this node sam\n",
      "I have visited this node Aaran\n",
      "I have visited this node binny\n",
      "I have visited this node christine\n",
      "I have visited this node danny\n",
      "I have visited this node elvin\n",
      "I have visited this node flin\n",
      "I have visited this node gini\n",
      "This is my travel path ['sam', 'Aaran', 'binny', 'christine', 'danny', 'elvin', 'flin', 'gini']\n"
     ]
    }
   ],
   "source": [
    "bfs(graph,'sam','gini')"
   ]
  },
  {
   "cell_type": "code",
   "execution_count": null,
   "id": "ffb50dcc-463d-433b-982e-c506328e0c45",
   "metadata": {},
   "outputs": [],
   "source": []
  },
  {
   "cell_type": "code",
   "execution_count": null,
   "id": "82cfcbb3-ff67-450f-a91e-284abef7ce64",
   "metadata": {},
   "outputs": [],
   "source": []
  },
  {
   "cell_type": "code",
   "execution_count": null,
   "id": "abb5cb48-8145-4df0-a548-ef3442f1eff9",
   "metadata": {},
   "outputs": [],
   "source": []
  },
  {
   "cell_type": "code",
   "execution_count": null,
   "id": "55fc10d4-4d9f-4a8f-86de-93e4c0825bd2",
   "metadata": {},
   "outputs": [],
   "source": []
  },
  {
   "cell_type": "code",
   "execution_count": null,
   "id": "8118f67e-4712-41d9-ba76-5488bb46c224",
   "metadata": {},
   "outputs": [],
   "source": []
  }
 ],
 "metadata": {
  "kernelspec": {
   "display_name": "Python 3 (ipykernel)",
   "language": "python",
   "name": "python3"
  },
  "language_info": {
   "codemirror_mode": {
    "name": "ipython",
    "version": 3
   },
   "file_extension": ".py",
   "mimetype": "text/x-python",
   "name": "python",
   "nbconvert_exporter": "python",
   "pygments_lexer": "ipython3",
   "version": "3.9.19"
  }
 },
 "nbformat": 4,
 "nbformat_minor": 5
}
