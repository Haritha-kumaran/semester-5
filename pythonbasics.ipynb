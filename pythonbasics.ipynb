{
 "cells": [
  {
   "cell_type": "markdown",
   "id": "ad53ee06-ec95-4fae-a093-4774244619be",
   "metadata": {},
   "source": [
    "# List"
   ]
  },
  {
   "cell_type": "code",
   "execution_count": 1,
   "id": "03d7f681-4f44-4d69-9c1d-f10e057af071",
   "metadata": {},
   "outputs": [],
   "source": [
    "l1 = ['haritha','harshini']"
   ]
  },
  {
   "cell_type": "code",
   "execution_count": 2,
   "id": "00be50aa-eaf3-4bff-9ac8-5dab29da3c29",
   "metadata": {},
   "outputs": [],
   "source": [
    "l1.append(55)"
   ]
  },
  {
   "cell_type": "code",
   "execution_count": 3,
   "id": "6795b2fa-76f1-4e02-9375-450d3efe48b1",
   "metadata": {},
   "outputs": [
    {
     "data": {
      "text/plain": [
       "['haritha', 'harshini', 55]"
      ]
     },
     "execution_count": 3,
     "metadata": {},
     "output_type": "execute_result"
    }
   ],
   "source": [
    "l1"
   ]
  },
  {
   "cell_type": "code",
   "execution_count": 4,
   "id": "a43d0478-10f8-4ac5-9179-450cd0f257a0",
   "metadata": {},
   "outputs": [
    {
     "data": {
      "text/plain": [
       "['haritha', 'harshini', 55]"
      ]
     },
     "execution_count": 4,
     "metadata": {},
     "output_type": "execute_result"
    }
   ],
   "source": [
    "l1"
   ]
  },
  {
   "cell_type": "code",
   "execution_count": 5,
   "id": "f499f21a-cacd-47b5-8a7a-3ec73f1ea756",
   "metadata": {},
   "outputs": [],
   "source": [
    "l1.insert(1,'kumaran')"
   ]
  },
  {
   "cell_type": "code",
   "execution_count": 6,
   "id": "ab6b3c9d-bb59-466a-809e-9088176664e8",
   "metadata": {},
   "outputs": [
    {
     "data": {
      "text/plain": [
       "['haritha', 'kumaran', 'harshini', 55]"
      ]
     },
     "execution_count": 6,
     "metadata": {},
     "output_type": "execute_result"
    }
   ],
   "source": [
    "l1"
   ]
  },
  {
   "cell_type": "code",
   "execution_count": 7,
   "id": "e88218c6-096f-41b0-a19e-aeb2b29a6f79",
   "metadata": {},
   "outputs": [],
   "source": [
    "l1.remove(55)"
   ]
  },
  {
   "cell_type": "code",
   "execution_count": 8,
   "id": "2a7fe079-e788-45b1-82cb-ecf2eed16092",
   "metadata": {},
   "outputs": [
    {
     "data": {
      "text/plain": [
       "['haritha', 'kumaran', 'harshini']"
      ]
     },
     "execution_count": 8,
     "metadata": {},
     "output_type": "execute_result"
    }
   ],
   "source": [
    "l1"
   ]
  },
  {
   "cell_type": "code",
   "execution_count": 9,
   "id": "eab6bb63-38d0-484e-b5f4-93baec91a928",
   "metadata": {},
   "outputs": [],
   "source": [
    "l1.insert(1,'lakshmi')"
   ]
  },
  {
   "cell_type": "code",
   "execution_count": 10,
   "id": "efc200d3-f4a1-4e47-9e93-9e3c57665b10",
   "metadata": {},
   "outputs": [
    {
     "data": {
      "text/plain": [
       "['haritha', 'lakshmi', 'kumaran', 'harshini']"
      ]
     },
     "execution_count": 10,
     "metadata": {},
     "output_type": "execute_result"
    }
   ],
   "source": [
    "l1"
   ]
  },
  {
   "cell_type": "code",
   "execution_count": 11,
   "id": "3b3eae4e-833d-4f54-818b-573bf5cb531d",
   "metadata": {},
   "outputs": [
    {
     "data": {
      "text/plain": [
       "'harshini'"
      ]
     },
     "execution_count": 11,
     "metadata": {},
     "output_type": "execute_result"
    }
   ],
   "source": [
    "l1.pop()"
   ]
  },
  {
   "cell_type": "code",
   "execution_count": 12,
   "id": "5f2aca20-5591-4b56-980b-9b5a3e4f0ad8",
   "metadata": {},
   "outputs": [
    {
     "data": {
      "text/plain": [
       "['haritha', 'lakshmi', 'kumaran']"
      ]
     },
     "execution_count": 12,
     "metadata": {},
     "output_type": "execute_result"
    }
   ],
   "source": [
    "l1"
   ]
  },
  {
   "cell_type": "code",
   "execution_count": 13,
   "id": "3a0f03b0-f542-4ce0-b332-90ec54cc04f4",
   "metadata": {},
   "outputs": [],
   "source": [
    "l1.append('harshini')"
   ]
  },
  {
   "cell_type": "code",
   "execution_count": 14,
   "id": "e0cb45fe-99a4-406e-97d2-5fd95d0552be",
   "metadata": {},
   "outputs": [
    {
     "data": {
      "text/plain": [
       "['haritha', 'lakshmi', 'kumaran', 'harshini']"
      ]
     },
     "execution_count": 14,
     "metadata": {},
     "output_type": "execute_result"
    }
   ],
   "source": [
    "l1"
   ]
  },
  {
   "cell_type": "code",
   "execution_count": 15,
   "id": "22db0699-68a4-4d59-825b-2f5684e083eb",
   "metadata": {},
   "outputs": [],
   "source": [
    "l1.insert(4,56)"
   ]
  },
  {
   "cell_type": "code",
   "execution_count": 16,
   "id": "7c99105b-7478-4496-b5fe-d5b3fa4df350",
   "metadata": {},
   "outputs": [
    {
     "data": {
      "text/plain": [
       "['haritha', 'lakshmi', 'kumaran', 'harshini', 56]"
      ]
     },
     "execution_count": 16,
     "metadata": {},
     "output_type": "execute_result"
    }
   ],
   "source": [
    "l1"
   ]
  },
  {
   "cell_type": "code",
   "execution_count": 17,
   "id": "c3c67994-0642-4d2e-856c-f7a8217df1ec",
   "metadata": {},
   "outputs": [
    {
     "data": {
      "text/plain": [
       "56"
      ]
     },
     "execution_count": 17,
     "metadata": {},
     "output_type": "execute_result"
    }
   ],
   "source": [
    "l1.pop(4)"
   ]
  },
  {
   "cell_type": "code",
   "execution_count": 18,
   "id": "932626e0-aedb-4546-b608-b5a3e605995f",
   "metadata": {},
   "outputs": [],
   "source": [
    "l1.insert(2,55)"
   ]
  },
  {
   "cell_type": "code",
   "execution_count": 19,
   "id": "cde98630-884e-407a-8cbe-2c2a8ee7faf9",
   "metadata": {},
   "outputs": [
    {
     "data": {
      "text/plain": [
       "['haritha', 'lakshmi', 55, 'kumaran', 'harshini']"
      ]
     },
     "execution_count": 19,
     "metadata": {},
     "output_type": "execute_result"
    }
   ],
   "source": [
    "l1"
   ]
  },
  {
   "cell_type": "code",
   "execution_count": 20,
   "id": "50fb5a1b-4c47-4e89-8d48-3fab5e6afa88",
   "metadata": {},
   "outputs": [
    {
     "data": {
      "text/plain": [
       "55"
      ]
     },
     "execution_count": 20,
     "metadata": {},
     "output_type": "execute_result"
    }
   ],
   "source": [
    "l1.pop(2)"
   ]
  },
  {
   "cell_type": "code",
   "execution_count": 21,
   "id": "182787a5-8728-4439-9030-1f671487969c",
   "metadata": {},
   "outputs": [
    {
     "data": {
      "text/plain": [
       "['haritha', 'lakshmi', 'kumaran', 'harshini']"
      ]
     },
     "execution_count": 21,
     "metadata": {},
     "output_type": "execute_result"
    }
   ],
   "source": [
    "l1"
   ]
  },
  {
   "cell_type": "code",
   "execution_count": 22,
   "id": "334da604-3b0c-4f36-8048-03b31adad9c0",
   "metadata": {},
   "outputs": [
    {
     "data": {
      "text/plain": [
       "2"
      ]
     },
     "execution_count": 22,
     "metadata": {},
     "output_type": "execute_result"
    }
   ],
   "source": [
    "l1.index('kumaran')"
   ]
  },
  {
   "cell_type": "code",
   "execution_count": 23,
   "id": "02c17ba3-14d0-4384-b0b5-4396f565de65",
   "metadata": {},
   "outputs": [],
   "source": [
    "l1.sort()"
   ]
  },
  {
   "cell_type": "code",
   "execution_count": 24,
   "id": "40176c33-425f-4fc9-a0c2-629cc92296f0",
   "metadata": {},
   "outputs": [
    {
     "data": {
      "text/plain": [
       "['haritha', 'harshini', 'kumaran', 'lakshmi']"
      ]
     },
     "execution_count": 24,
     "metadata": {},
     "output_type": "execute_result"
    }
   ],
   "source": [
    "l1"
   ]
  },
  {
   "cell_type": "code",
   "execution_count": 25,
   "id": "9ccbd03c-2c6f-4082-b752-95c0d008748c",
   "metadata": {},
   "outputs": [
    {
     "data": {
      "text/plain": [
       "['haritha', 'harshini', 'kumaran', 'lakshmi']"
      ]
     },
     "execution_count": 25,
     "metadata": {},
     "output_type": "execute_result"
    }
   ],
   "source": [
    "sorted(l1)"
   ]
  },
  {
   "cell_type": "code",
   "execution_count": 26,
   "id": "3d706f56-2c1b-4181-930b-5f22c578a3f1",
   "metadata": {},
   "outputs": [],
   "source": [
    "a = [ 2 , 1 , 4, 5 , 6]"
   ]
  },
  {
   "cell_type": "code",
   "execution_count": 27,
   "id": "520a4b97-2247-49ef-89ad-78771fc150a3",
   "metadata": {},
   "outputs": [
    {
     "data": {
      "text/plain": [
       "[1, 2, 4, 5, 6]"
      ]
     },
     "execution_count": 27,
     "metadata": {},
     "output_type": "execute_result"
    }
   ],
   "source": [
    "sorted(a)"
   ]
  },
  {
   "cell_type": "code",
   "execution_count": 28,
   "id": "f81a4224-4ed5-4001-b461-f958912b5a00",
   "metadata": {},
   "outputs": [
    {
     "data": {
      "text/plain": [
       "[6, 5, 4, 2, 1]"
      ]
     },
     "execution_count": 28,
     "metadata": {},
     "output_type": "execute_result"
    }
   ],
   "source": [
    "sorted(a,reverse=True)"
   ]
  },
  {
   "cell_type": "code",
   "execution_count": 29,
   "id": "469eec06-635c-4cb1-9a0b-fff3f37bf156",
   "metadata": {},
   "outputs": [],
   "source": [
    "a.reverse()"
   ]
  },
  {
   "cell_type": "code",
   "execution_count": 30,
   "id": "9acb845c-9454-4e64-8104-e711463398ad",
   "metadata": {},
   "outputs": [
    {
     "data": {
      "text/plain": [
       "['haritha', 'harshini', 'kumaran', 'lakshmi']"
      ]
     },
     "execution_count": 30,
     "metadata": {},
     "output_type": "execute_result"
    }
   ],
   "source": [
    "l1"
   ]
  },
  {
   "cell_type": "code",
   "execution_count": 31,
   "id": "c37b0697-600d-4d34-a595-1d1364772b74",
   "metadata": {},
   "outputs": [
    {
     "data": {
      "text/plain": [
       "[6, 5, 4, 1, 2]"
      ]
     },
     "execution_count": 31,
     "metadata": {},
     "output_type": "execute_result"
    }
   ],
   "source": [
    "a"
   ]
  },
  {
   "cell_type": "code",
   "execution_count": 32,
   "id": "e823b068-5b03-4082-81ee-8a3314bb763c",
   "metadata": {},
   "outputs": [],
   "source": [
    "a.sort()"
   ]
  },
  {
   "cell_type": "code",
   "execution_count": 33,
   "id": "7b8e46e9-be20-4d02-933d-023061a30a34",
   "metadata": {},
   "outputs": [
    {
     "data": {
      "text/plain": [
       "[1, 2, 4, 5, 6]"
      ]
     },
     "execution_count": 33,
     "metadata": {},
     "output_type": "execute_result"
    }
   ],
   "source": [
    "a"
   ]
  },
  {
   "cell_type": "markdown",
   "id": "caad6503-86cf-4dca-87e4-826c6ee020bb",
   "metadata": {},
   "source": [
    "# Tuple"
   ]
  },
  {
   "cell_type": "code",
   "execution_count": 34,
   "id": "461060fb-90c1-476c-beb5-cd51ab3b4a5e",
   "metadata": {},
   "outputs": [],
   "source": [
    "fruits = (\"mango\" , \"orange\" , \"grapes\" , \"banana\" , \"apple\" , \"guava\" ,1,2,3,4,4,3)"
   ]
  },
  {
   "cell_type": "code",
   "execution_count": 35,
   "id": "208bbb05-8ac5-4a3e-aed5-374a24eb8f4b",
   "metadata": {},
   "outputs": [
    {
     "data": {
      "text/plain": [
       "('mango', 'orange', 'grapes', 'banana', 'apple', 'guava', 1, 2, 3, 4, 4, 3)"
      ]
     },
     "execution_count": 35,
     "metadata": {},
     "output_type": "execute_result"
    }
   ],
   "source": [
    "fruits"
   ]
  },
  {
   "cell_type": "code",
   "execution_count": 36,
   "id": "014daaef-d82f-4339-84e3-e07d91f0728e",
   "metadata": {},
   "outputs": [
    {
     "data": {
      "text/plain": [
       "tuple"
      ]
     },
     "execution_count": 36,
     "metadata": {},
     "output_type": "execute_result"
    }
   ],
   "source": [
    "type(fruits)"
   ]
  },
  {
   "cell_type": "code",
   "execution_count": 37,
   "id": "63aaadb3-3618-4122-8917-7645e8bb2111",
   "metadata": {},
   "outputs": [
    {
     "data": {
      "text/plain": [
       "12"
      ]
     },
     "execution_count": 37,
     "metadata": {},
     "output_type": "execute_result"
    }
   ],
   "source": [
    "len(fruits)"
   ]
  },
  {
   "cell_type": "code",
   "execution_count": 38,
   "id": "e0899e8f-905a-44f4-8e45-e309d4610c8f",
   "metadata": {},
   "outputs": [
    {
     "data": {
      "text/plain": [
       "'guava'"
      ]
     },
     "execution_count": 38,
     "metadata": {},
     "output_type": "execute_result"
    }
   ],
   "source": [
    "fruits[5]"
   ]
  },
  {
   "cell_type": "code",
   "execution_count": 39,
   "id": "6cefeac2-6299-41b8-a2c3-9a1f2b5a82e6",
   "metadata": {},
   "outputs": [
    {
     "data": {
      "text/plain": [
       "2"
      ]
     },
     "execution_count": 39,
     "metadata": {},
     "output_type": "execute_result"
    }
   ],
   "source": [
    "fruits.count(4)"
   ]
  },
  {
   "cell_type": "code",
   "execution_count": 40,
   "id": "562584aa-2981-46dc-add2-83bf788b0419",
   "metadata": {},
   "outputs": [],
   "source": [
    "fruits = list(fruits)"
   ]
  },
  {
   "cell_type": "code",
   "execution_count": 41,
   "id": "24f5aae3-339e-473c-bc4b-5cb06cf52d10",
   "metadata": {},
   "outputs": [
    {
     "data": {
      "text/plain": [
       "['mango', 'orange', 'grapes', 'banana', 'apple', 'guava', 1, 2, 3, 4, 4, 3]"
      ]
     },
     "execution_count": 41,
     "metadata": {},
     "output_type": "execute_result"
    }
   ],
   "source": [
    "fruits"
   ]
  },
  {
   "cell_type": "code",
   "execution_count": 42,
   "id": "b0e7aeb6-c211-4660-8dcc-202173fb83e0",
   "metadata": {},
   "outputs": [],
   "source": [
    "fruits = tuple(fruits)"
   ]
  },
  {
   "cell_type": "code",
   "execution_count": 43,
   "id": "95186121-4a1d-4503-a0eb-81da25256fb9",
   "metadata": {},
   "outputs": [
    {
     "data": {
      "text/plain": [
       "('mango', 'orange', 'grapes', 'banana', 'apple', 'guava', 1, 2, 3, 4, 4, 3)"
      ]
     },
     "execution_count": 43,
     "metadata": {},
     "output_type": "execute_result"
    }
   ],
   "source": [
    "fruits"
   ]
  },
  {
   "cell_type": "code",
   "execution_count": 44,
   "id": "22064aef-6e41-4021-9460-d0601d839fcb",
   "metadata": {},
   "outputs": [],
   "source": [
    "fruits = list(fruits)"
   ]
  },
  {
   "cell_type": "code",
   "execution_count": 45,
   "id": "5be9a749-6a93-4d5d-9ce8-df07c833086b",
   "metadata": {},
   "outputs": [
    {
     "data": {
      "text/plain": [
       "['mango', 'orange', 'grapes', 'banana', 'apple', 'guava', 1, 2, 3, 4, 4, 3]"
      ]
     },
     "execution_count": 45,
     "metadata": {},
     "output_type": "execute_result"
    }
   ],
   "source": [
    "fruits"
   ]
  },
  {
   "cell_type": "code",
   "execution_count": 46,
   "id": "95b62f2a-40d8-43eb-a7fb-efa322797742",
   "metadata": {},
   "outputs": [],
   "source": [
    "fruits[6]=\"papaya\""
   ]
  },
  {
   "cell_type": "code",
   "execution_count": 47,
   "id": "66969ab3-7770-4e38-8712-ddb57021fec7",
   "metadata": {},
   "outputs": [
    {
     "data": {
      "text/plain": [
       "['mango',\n",
       " 'orange',\n",
       " 'grapes',\n",
       " 'banana',\n",
       " 'apple',\n",
       " 'guava',\n",
       " 'papaya',\n",
       " 2,\n",
       " 3,\n",
       " 4,\n",
       " 4,\n",
       " 3]"
      ]
     },
     "execution_count": 47,
     "metadata": {},
     "output_type": "execute_result"
    }
   ],
   "source": [
    "fruits"
   ]
  },
  {
   "cell_type": "code",
   "execution_count": 48,
   "id": "cf3ba3df-6649-40aa-8988-62cc477e77b7",
   "metadata": {},
   "outputs": [],
   "source": [
    "fruits = tuple(fruits)"
   ]
  },
  {
   "cell_type": "code",
   "execution_count": 49,
   "id": "bd40ce66-5026-4763-93dc-bcc631d8bee2",
   "metadata": {},
   "outputs": [
    {
     "data": {
      "text/plain": [
       "('mango',\n",
       " 'orange',\n",
       " 'grapes',\n",
       " 'banana',\n",
       " 'apple',\n",
       " 'guava',\n",
       " 'papaya',\n",
       " 2,\n",
       " 3,\n",
       " 4,\n",
       " 4,\n",
       " 3)"
      ]
     },
     "execution_count": 49,
     "metadata": {},
     "output_type": "execute_result"
    }
   ],
   "source": [
    "fruits"
   ]
  },
  {
   "cell_type": "code",
   "execution_count": 50,
   "id": "b26cc1db-a8f0-49a3-ab44-d8bb6d92b0cc",
   "metadata": {},
   "outputs": [],
   "source": [
    "fruits = list(fruits)"
   ]
  },
  {
   "cell_type": "code",
   "execution_count": 51,
   "id": "af7c52cc-cec3-4775-83f8-9b640534a568",
   "metadata": {},
   "outputs": [
    {
     "data": {
      "text/plain": [
       "['mango',\n",
       " 'orange',\n",
       " 'grapes',\n",
       " 'banana',\n",
       " 'apple',\n",
       " 'guava',\n",
       " 'papaya',\n",
       " 2,\n",
       " 3,\n",
       " 4,\n",
       " 4,\n",
       " 3]"
      ]
     },
     "execution_count": 51,
     "metadata": {},
     "output_type": "execute_result"
    }
   ],
   "source": [
    "fruits"
   ]
  },
  {
   "cell_type": "code",
   "execution_count": 52,
   "id": "05a58f0c-0422-44a4-912f-ece73a2a4cba",
   "metadata": {},
   "outputs": [],
   "source": [
    "fruits[9]=1"
   ]
  },
  {
   "cell_type": "code",
   "execution_count": 53,
   "id": "51c093b1-9f14-42b9-a403-42fe0b1ca787",
   "metadata": {},
   "outputs": [
    {
     "data": {
      "text/plain": [
       "['mango',\n",
       " 'orange',\n",
       " 'grapes',\n",
       " 'banana',\n",
       " 'apple',\n",
       " 'guava',\n",
       " 'papaya',\n",
       " 2,\n",
       " 3,\n",
       " 1,\n",
       " 4,\n",
       " 3]"
      ]
     },
     "execution_count": 53,
     "metadata": {},
     "output_type": "execute_result"
    }
   ],
   "source": [
    "fruits"
   ]
  },
  {
   "cell_type": "code",
   "execution_count": 54,
   "id": "47eeb065-b6be-4469-8fa6-2070f25dd29b",
   "metadata": {},
   "outputs": [],
   "source": [
    "Haritha = (5,6,7,8,9,1,2,3,4)"
   ]
  },
  {
   "cell_type": "code",
   "execution_count": 55,
   "id": "a587d316-1374-4f2d-aef2-954a34bc483c",
   "metadata": {},
   "outputs": [
    {
     "data": {
      "text/plain": [
       "(5, 6, 7, 8, 9, 1, 2, 3, 4)"
      ]
     },
     "execution_count": 55,
     "metadata": {},
     "output_type": "execute_result"
    }
   ],
   "source": [
    "Haritha"
   ]
  },
  {
   "cell_type": "code",
   "execution_count": 56,
   "id": "716fe7c6-c8c3-4959-a5a2-9b76f80dc582",
   "metadata": {},
   "outputs": [
    {
     "ename": "AttributeError",
     "evalue": "'tuple' object has no attribute 'sort'",
     "output_type": "error",
     "traceback": [
      "\u001b[1;31m---------------------------------------------------------------------------\u001b[0m",
      "\u001b[1;31mAttributeError\u001b[0m                            Traceback (most recent call last)",
      "Cell \u001b[1;32mIn[56], line 1\u001b[0m\n\u001b[1;32m----> 1\u001b[0m \u001b[43mHaritha\u001b[49m\u001b[38;5;241;43m.\u001b[39;49m\u001b[43msort\u001b[49m()\n",
      "\u001b[1;31mAttributeError\u001b[0m: 'tuple' object has no attribute 'sort'"
     ]
    }
   ],
   "source": [
    "Haritha.sort()"
   ]
  },
  {
   "cell_type": "code",
   "execution_count": null,
   "id": "66020dfb-3dca-4b71-8ea5-ef503030a8e5",
   "metadata": {},
   "outputs": [],
   "source": [
    "sorted(Haritha)"
   ]
  },
  {
   "cell_type": "code",
   "execution_count": null,
   "id": "d0ffc74a-fee8-4a0a-b493-c47f907290f4",
   "metadata": {},
   "outputs": [],
   "source": [
    "Haritha = list(Haritha)"
   ]
  },
  {
   "cell_type": "code",
   "execution_count": null,
   "id": "518fb229-28ce-44a2-8793-5a4e133eb8af",
   "metadata": {},
   "outputs": [],
   "source": [
    "Haritha"
   ]
  },
  {
   "cell_type": "code",
   "execution_count": null,
   "id": "1fc3fcfd-6a4f-4f7b-91bc-199a28ed693f",
   "metadata": {},
   "outputs": [],
   "source": [
    "Haritha.sort()"
   ]
  },
  {
   "cell_type": "code",
   "execution_count": null,
   "id": "fa3b1df6-f04b-40c7-a759-82ae6d23f476",
   "metadata": {},
   "outputs": [],
   "source": [
    "Haritha"
   ]
  },
  {
   "cell_type": "markdown",
   "id": "a8bc37af-f8c3-4647-a65c-8034c12a22bd",
   "metadata": {},
   "source": [
    "#Sets\n",
    "1.set is unorder and unindex\n",
    "2.set is mutable\n",
    "3.set do not allow duplicate values"
   ]
  },
  {
   "cell_type": "code",
   "execution_count": null,
   "id": "64398e2b-ee90-43f6-9fd0-ea1121a3b735",
   "metadata": {},
   "outputs": [],
   "source": [
    "subject = {'tamil','english','maths','physics','chemistry','biology'}"
   ]
  },
  {
   "cell_type": "code",
   "execution_count": null,
   "id": "cf11ed31-2f2c-4fcc-8b38-a3a22cae753d",
   "metadata": {},
   "outputs": [],
   "source": [
    "type(subject)"
   ]
  },
  {
   "cell_type": "code",
   "execution_count": null,
   "id": "41410213-5c2d-43da-8cf6-e39fa574e303",
   "metadata": {},
   "outputs": [],
   "source": [
    "len(subject)"
   ]
  },
  {
   "cell_type": "code",
   "execution_count": null,
   "id": "779af984-1dd0-4d50-ad5a-f3cbedcd121e",
   "metadata": {},
   "outputs": [],
   "source": [
    "subject.add('electronics')"
   ]
  },
  {
   "cell_type": "code",
   "execution_count": null,
   "id": "52b3a514-2d78-41e2-a461-f02d244bc122",
   "metadata": {},
   "outputs": [],
   "source": [
    "subject"
   ]
  },
  {
   "cell_type": "code",
   "execution_count": null,
   "id": "cc4ed4be-5dd2-44c5-b22b-26cad5600e8d",
   "metadata": {},
   "outputs": [],
   "source": [
    "subject.update({'communication'})"
   ]
  },
  {
   "cell_type": "code",
   "execution_count": null,
   "id": "2044a985-94b0-4833-806b-57ed4a5639e0",
   "metadata": {},
   "outputs": [],
   "source": [
    "subject"
   ]
  },
  {
   "cell_type": "markdown",
   "id": "be9cdc62-5d7c-453a-aabb-6afa29271860",
   "metadata": {},
   "source": [
    "# Set"
   ]
  },
  {
   "cell_type": "raw",
   "id": "293d4d58-0942-4daf-9c19-a00f7a3be902",
   "metadata": {},
   "source": [
    "  1.set is unorder and unindex\n",
    "  2.set is mutable.\n",
    "  3.set do not allow duplicate values"
   ]
  },
  {
   "cell_type": "code",
   "execution_count": null,
   "id": "0be23729-144d-4f35-b5ba-d439be62cd94",
   "metadata": {},
   "outputs": [],
   "source": [
    "color = {'orange','blue','green','red','purple','violet','yellow','pink'}"
   ]
  },
  {
   "cell_type": "code",
   "execution_count": null,
   "id": "e2362456-1086-4254-9f86-1dbf1430a3fe",
   "metadata": {},
   "outputs": [],
   "source": [
    "color"
   ]
  },
  {
   "cell_type": "code",
   "execution_count": null,
   "id": "1261b1d6-bfbc-436b-9a6c-061eb573be7d",
   "metadata": {},
   "outputs": [],
   "source": [
    "color\n"
   ]
  },
  {
   "cell_type": "code",
   "execution_count": null,
   "id": "22f67c0d-4c0b-4448-bc00-bd0cafb9973b",
   "metadata": {},
   "outputs": [],
   "source": [
    "type(color)"
   ]
  },
  {
   "cell_type": "code",
   "execution_count": null,
   "id": "06745fc9-d5d7-4773-bc12-8ca86a94f72b",
   "metadata": {},
   "outputs": [],
   "source": [
    "color.add('white')"
   ]
  },
  {
   "cell_type": "code",
   "execution_count": null,
   "id": "0b2e424d-be93-4ebc-8f8c-6e6a4bb7433d",
   "metadata": {},
   "outputs": [],
   "source": [
    "color"
   ]
  },
  {
   "cell_type": "code",
   "execution_count": null,
   "id": "37e60a7a-8b96-495d-90b4-3483e1c09dcd",
   "metadata": {},
   "outputs": [],
   "source": [
    "color.update({'black','brown'})\n",
    "color"
   ]
  },
  {
   "cell_type": "code",
   "execution_count": null,
   "id": "459f1401-f6bf-4f3f-b0ef-04b72bc17df8",
   "metadata": {},
   "outputs": [],
   "source": [
    "color"
   ]
  },
  {
   "cell_type": "code",
   "execution_count": null,
   "id": "f8dc82c9-a627-4d7d-b6f8-a850f165cc94",
   "metadata": {},
   "outputs": [],
   "source": [
    "color.remove('purple')\n",
    "color"
   ]
  },
  {
   "cell_type": "code",
   "execution_count": null,
   "id": "eb212859-2b0a-4135-91fe-b14afada4b3d",
   "metadata": {},
   "outputs": [],
   "source": [
    "color.add('purple')"
   ]
  },
  {
   "cell_type": "code",
   "execution_count": null,
   "id": "04a71ac6-4804-4185-ac78-13028a585c1a",
   "metadata": {},
   "outputs": [],
   "source": [
    "color"
   ]
  },
  {
   "cell_type": "code",
   "execution_count": null,
   "id": "96148e3b-82ff-42f3-b0f0-311ec991741e",
   "metadata": {},
   "outputs": [],
   "source": [
    "color.discard('violet')"
   ]
  },
  {
   "cell_type": "code",
   "execution_count": null,
   "id": "4b9c4e45-1dc2-486e-a1a5-cc2520710535",
   "metadata": {},
   "outputs": [],
   "source": [
    "color"
   ]
  },
  {
   "cell_type": "code",
   "execution_count": null,
   "id": "92dda273-149f-42bf-9c02-7f9e05c6a696",
   "metadata": {},
   "outputs": [],
   "source": [
    "color.add('violet')"
   ]
  },
  {
   "cell_type": "code",
   "execution_count": null,
   "id": "3bb694cf-6934-4a9b-937f-c6437cb97d33",
   "metadata": {},
   "outputs": [],
   "source": [
    "color"
   ]
  },
  {
   "cell_type": "markdown",
   "id": "eda14d7a-59c2-48d4-b55f-db0261d85452",
   "metadata": {},
   "source": [
    "# Frozen set"
   ]
  },
  {
   "cell_type": "code",
   "execution_count": null,
   "id": "7233507d-75af-4a0c-92fd-c52d45cd4106",
   "metadata": {},
   "outputs": [],
   "source": [
    "animals=frozenset({'tiger','dog','cat'})"
   ]
  },
  {
   "cell_type": "code",
   "execution_count": null,
   "id": "7a1c7bff-d5bd-4351-a46e-469267569cd3",
   "metadata": {},
   "outputs": [],
   "source": [
    "type(animals)"
   ]
  },
  {
   "cell_type": "markdown",
   "id": "3c1e8493-f91d-4911-804e-863d83ef2ea7",
   "metadata": {},
   "source": [
    "# Dictionaries"
   ]
  },
  {
   "cell_type": "raw",
   "id": "fa8745a7-d688-4a5d-b24f-e25b58a1290f",
   "metadata": {},
   "source": [
    "1.keys are immutable\n",
    "2.values are mutable.\n",
    "3.overall dict. is a mutable structure"
   ]
  },
  {
   "cell_type": "code",
   "execution_count": null,
   "id": "980ab9a2-9e24-4141-8cbc-8434c93c89a9",
   "metadata": {},
   "outputs": [],
   "source": [
    "course={1:'service robotics',2:'mobile robots',3:'ros',4:'artificial intelligence'}"
   ]
  },
  {
   "cell_type": "code",
   "execution_count": null,
   "id": "29f99351-2d40-4a3d-a58f-cb2906a6834d",
   "metadata": {},
   "outputs": [],
   "source": [
    "type(course)"
   ]
  },
  {
   "cell_type": "code",
   "execution_count": null,
   "id": "9d5528a6-71fc-4fab-b3eb-3ce4e35c7753",
   "metadata": {},
   "outputs": [],
   "source": [
    "course"
   ]
  },
  {
   "cell_type": "code",
   "execution_count": null,
   "id": "fcc46696-710c-44d0-9f87-993394e64b57",
   "metadata": {},
   "outputs": [],
   "source": [
    "info={'name':'haritha','age':19,'collage':'pmist','department':'ece','year':'third year'}"
   ]
  },
  {
   "cell_type": "code",
   "execution_count": null,
   "id": "8535819a-9fb8-4067-9c46-ad219581a8e2",
   "metadata": {},
   "outputs": [],
   "source": [
    "type(info)"
   ]
  },
  {
   "cell_type": "code",
   "execution_count": null,
   "id": "d7c88659-8d1f-4dd3-bd75-97fd120e5233",
   "metadata": {},
   "outputs": [],
   "source": [
    "len(info)"
   ]
  },
  {
   "cell_type": "code",
   "execution_count": null,
   "id": "6bc5046d-3600-4ab5-a97f-4e104920e162",
   "metadata": {},
   "outputs": [],
   "source": [
    "len(course)"
   ]
  },
  {
   "cell_type": "code",
   "execution_count": null,
   "id": "45e13b54-8bae-4fb3-b407-60b1f9e9a47c",
   "metadata": {},
   "outputs": [],
   "source": [
    "course[4]"
   ]
  },
  {
   "cell_type": "code",
   "execution_count": null,
   "id": "31f2d2ae-d573-483f-8137-b39a321876ac",
   "metadata": {},
   "outputs": [],
   "source": [
    "info['age']"
   ]
  },
  {
   "cell_type": "code",
   "execution_count": null,
   "id": "d047cbbd-00d9-4506-8d73-b4b7bcf43796",
   "metadata": {},
   "outputs": [],
   "source": [
    "course[4]='AI'"
   ]
  },
  {
   "cell_type": "code",
   "execution_count": null,
   "id": "1d6d221c-9374-4c6c-8e9f-004dc73ff9fc",
   "metadata": {},
   "outputs": [],
   "source": [
    "course"
   ]
  },
  {
   "cell_type": "code",
   "execution_count": null,
   "id": "d4711de0-61a5-4b24-81fb-11ff425ec941",
   "metadata": {},
   "outputs": [],
   "source": [
    "course[5]='ml'"
   ]
  },
  {
   "cell_type": "code",
   "execution_count": null,
   "id": "9bd9e16d-5a0d-48c4-85ac-6eb689815bef",
   "metadata": {},
   "outputs": [],
   "source": [
    "course"
   ]
  },
  {
   "cell_type": "code",
   "execution_count": null,
   "id": "42b8b617-2691-4caa-a15f-770cbd08d44c",
   "metadata": {},
   "outputs": [],
   "source": [
    "info['department']"
   ]
  },
  {
   "cell_type": "code",
   "execution_count": null,
   "id": "486366e0-e52b-4493-9c95-a268dc53fd18",
   "metadata": {},
   "outputs": [],
   "source": [
    "info['section']='A'"
   ]
  },
  {
   "cell_type": "code",
   "execution_count": null,
   "id": "58995082-6706-479b-af6b-6da579b5a798",
   "metadata": {},
   "outputs": [],
   "source": [
    "info"
   ]
  },
  {
   "cell_type": "code",
   "execution_count": null,
   "id": "7250d649-4d3c-4ca3-9e4d-bc7625bb93df",
   "metadata": {},
   "outputs": [],
   "source": [
    "course={1:'service robotics',2:'mobile robots',3:'ros',4:'artificial intelligence'}"
   ]
  },
  {
   "cell_type": "code",
   "execution_count": null,
   "id": "1b5dac5b-d9cb-4c1c-b3da-d4e5579bf929",
   "metadata": {},
   "outputs": [],
   "source": [
    "course[5]='ml'"
   ]
  },
  {
   "cell_type": "code",
   "execution_count": null,
   "id": "88c19165-38e0-45a8-8c27-dca752554db3",
   "metadata": {},
   "outputs": [],
   "source": [
    "course"
   ]
  },
  {
   "cell_type": "code",
   "execution_count": null,
   "id": "b1c0701b-cfe3-4229-b897-1a8c2f84bfb3",
   "metadata": {},
   "outputs": [],
   "source": [
    "info"
   ]
  },
  {
   "cell_type": "code",
   "execution_count": null,
   "id": "89163961-7bd0-4cb2-a70a-dce38778a03c",
   "metadata": {},
   "outputs": [],
   "source": [
    "info.keys()"
   ]
  },
  {
   "cell_type": "code",
   "execution_count": null,
   "id": "b7bd963e-4edf-4340-afc3-faff66fcb757",
   "metadata": {},
   "outputs": [],
   "source": [
    "info.values()"
   ]
  },
  {
   "cell_type": "code",
   "execution_count": null,
   "id": "80509020-69f5-4fe5-bf6c-fc7586c68941",
   "metadata": {},
   "outputs": [],
   "source": [
    "course.pop(2)"
   ]
  },
  {
   "cell_type": "code",
   "execution_count": null,
   "id": "ed92a0f0-feb7-470b-984b-1ed7e7475824",
   "metadata": {},
   "outputs": [],
   "source": [
    "course"
   ]
  },
  {
   "cell_type": "code",
   "execution_count": null,
   "id": "346b91c8-76a7-4022-9fee-f5fbf01c3556",
   "metadata": {},
   "outputs": [],
   "source": [
    "c=course.copy()"
   ]
  },
  {
   "cell_type": "code",
   "execution_count": null,
   "id": "39a4f278-7a99-4613-9bd9-8ed6ae2ffd49",
   "metadata": {},
   "outputs": [],
   "source": [
    "c"
   ]
  },
  {
   "cell_type": "code",
   "execution_count": null,
   "id": "98c72f96-0ca1-43d3-a0fa-0edd93e2e536",
   "metadata": {},
   "outputs": [],
   "source": [
    "c=course"
   ]
  },
  {
   "cell_type": "code",
   "execution_count": null,
   "id": "7d2eb027-a78d-499f-bb50-8aee05fbc7ad",
   "metadata": {},
   "outputs": [],
   "source": [
    "c"
   ]
  },
  {
   "cell_type": "code",
   "execution_count": null,
   "id": "56f8f4d2-b2a5-425d-9ef0-8068e21fce12",
   "metadata": {},
   "outputs": [],
   "source": [
    "c=info"
   ]
  },
  {
   "cell_type": "code",
   "execution_count": null,
   "id": "75aaf33c-67c1-4c7a-b741-2dd9e67800cf",
   "metadata": {},
   "outputs": [],
   "source": [
    "c"
   ]
  },
  {
   "cell_type": "markdown",
   "id": "61acf466-66e7-42e9-bb8f-1592ff038073",
   "metadata": {},
   "source": [
    "# Boolean"
   ]
  },
  {
   "cell_type": "code",
   "execution_count": null,
   "id": "eeba2fb6-425e-466a-bf38-38d48cbc0e60",
   "metadata": {},
   "outputs": [],
   "source": [
    "1>0"
   ]
  },
  {
   "cell_type": "code",
   "execution_count": null,
   "id": "f1dc9611-4e5c-4069-a194-acc67a8072b9",
   "metadata": {},
   "outputs": [],
   "source": [
    "2<1"
   ]
  },
  {
   "cell_type": "code",
   "execution_count": null,
   "id": "6ccbd590-07fc-4d83-82fd-cfcbb49f708a",
   "metadata": {},
   "outputs": [],
   "source": [
    "3<-1"
   ]
  },
  {
   "cell_type": "code",
   "execution_count": null,
   "id": "bc3ea81e-a40d-4d5a-a27b-8d9b46e08708",
   "metadata": {},
   "outputs": [],
   "source": [
    "5==5"
   ]
  },
  {
   "cell_type": "code",
   "execution_count": null,
   "id": "f3e1a9fe-3cd1-483f-aed3-91d6342e22e8",
   "metadata": {},
   "outputs": [],
   "source": [
    "5>5"
   ]
  },
  {
   "cell_type": "code",
   "execution_count": null,
   "id": "cca04459-03df-437f-a266-22541788a524",
   "metadata": {},
   "outputs": [],
   "source": [
    "5=5"
   ]
  },
  {
   "cell_type": "code",
   "execution_count": null,
   "id": "6128b02a-a15d-46e5-a77f-071eb7007fec",
   "metadata": {},
   "outputs": [],
   "source": [
    "5!=5"
   ]
  },
  {
   "cell_type": "markdown",
   "id": "7f1c21b4-6314-4311-b330-de8ba9dcfa8c",
   "metadata": {},
   "source": [
    "# Control Flow"
   ]
  },
  {
   "cell_type": "raw",
   "id": "56096c74-e520-49a4-80b2-3228aa8d871f",
   "metadata": {},
   "source": [
    "1.conditional statements\n",
    "2.Loops\n",
    "3.Functions"
   ]
  },
  {
   "cell_type": "markdown",
   "id": "2b0248c3-64f7-4aa0-be5e-cabddbf4fefe",
   "metadata": {},
   "source": [
    "# Conditional"
   ]
  },
  {
   "cell_type": "markdown",
   "id": "c8399294-752c-4093-be76-04e0b2cfc5d6",
   "metadata": {},
   "source": [
    "# IF\n",
    "# ELIF\n",
    "# ELSE"
   ]
  },
  {
   "cell_type": "code",
   "execution_count": 3,
   "id": "1c989185-d1b1-40e1-b0c4-77e41ee3a764",
   "metadata": {},
   "outputs": [
    {
     "name": "stdin",
     "output_type": "stream",
     "text": [
      "enter the number 7\n"
     ]
    },
    {
     "name": "stdout",
     "output_type": "stream",
     "text": [
      "Odd\n"
     ]
    }
   ],
   "source": [
    "number=int(input('enter the number'))\n",
    "if(number%2==0):\n",
    "    print(\"Even\")\n",
    "else:\n",
    "    print(\"Odd\")"
   ]
  },
  {
   "cell_type": "code",
   "execution_count": 14,
   "id": "b2c78366-9b2d-4c70-a089-997c24a21d5d",
   "metadata": {},
   "outputs": [
    {
     "name": "stdin",
     "output_type": "stream",
     "text": [
      "enter year 2022\n"
     ]
    },
    {
     "name": "stdout",
     "output_type": "stream",
     "text": [
      "year is not a leap year.\n"
     ]
    }
   ],
   "source": [
    "year=int(input(\"enter year\"))\n",
    "if ( year % 400 == 0 ):\n",
    "    print(\"year is a leap year.\")\n",
    "else:\n",
    "    print(\"year is not a leap year.\")"
   ]
  },
  {
   "cell_type": "code",
   "execution_count": null,
   "id": "d85c6440-2b3a-490a-a1d3-efcab5b5c11b",
   "metadata": {},
   "outputs": [],
   "source": [
    "( year % 4 == 0 and year % 100 != 0 )"
   ]
  },
  {
   "cell_type": "code",
   "execution_count": 15,
   "id": "111e4490-5505-47a1-91d0-c478961ff8fd",
   "metadata": {},
   "outputs": [
    {
     "name": "stdin",
     "output_type": "stream",
     "text": [
      "enter the first number 5\n",
      "enter the second number 4\n"
     ]
    },
    {
     "name": "stdout",
     "output_type": "stream",
     "text": [
      "The number 5 is greater than number 4\n"
     ]
    }
   ],
   "source": [
    "a=int(input(\"enter the first number\"))\n",
    "b=int(input(\"enter the second number\"))\n",
    "if( a > b):\n",
    "    print(f\"The number {a} is greater than number {b}\")\n",
    "elif a==b:\n",
    "    print(\"both numbers are equal\")\n",
    "else:\n",
    "    print(f\"The number {a} is lesser than number {b}\")"
   ]
  },
  {
   "cell_type": "code",
   "execution_count": 18,
   "id": "a766d9ee-8497-4615-a852-bbe5011e9594",
   "metadata": {},
   "outputs": [
    {
     "name": "stdin",
     "output_type": "stream",
     "text": [
      "enter the first number 3\n",
      "enter the second number 3\n",
      "enter the third number 3\n"
     ]
    },
    {
     "name": "stdout",
     "output_type": "stream",
     "text": [
      "all the numbers are equal\n"
     ]
    }
   ],
   "source": [
    "a=int(input(\"enter the first number\"))\n",
    "b=int(input(\"enter the second number\"))\n",
    "c=int(input(\"enter the third number\"))\n",
    "if( a>b and a>c):\n",
    "    print(f\"The greater number is {a}\")\n",
    "elif( b>c ):\n",
    "    print(f\"the greater number is {b}\")\n",
    "elif( c>a):\n",
    "    print(f\"the greater number is {c}\")\n",
    "else:\n",
    "    print(\"all the numbers are equal\")\n",
    "\n"
   ]
  },
  {
   "cell_type": "code",
   "execution_count": 27,
   "id": "8e3372d6-f19c-48cc-867e-5277c6e7a1de",
   "metadata": {},
   "outputs": [
    {
     "name": "stdin",
     "output_type": "stream",
     "text": [
      "enter the first number 6\n",
      "enter the second number 7\n",
      "enter the third number 8\n"
     ]
    },
    {
     "name": "stdout",
     "output_type": "stream",
     "text": [
      "the greater number is 8\n"
     ]
    }
   ],
   "source": [
    "a=int(input(\"enter the first number\"))\n",
    "b=int(input(\"enter the second number\"))\n",
    "c=int(input(\"enter the third number\"))\n",
    "if(a>b and a>c):\n",
    "    print(f\"The greater number is {a}\")\n",
    "elif(b>c):\n",
    "    print(f\"the greater number is {b}\")\n",
    "elif(c>a):\n",
    "    print(f\"the greater number is {c}\")\n",
    "else:\n",
    "    print(\"all the numbers are equal\")\n"
   ]
  },
  {
   "cell_type": "code",
   "execution_count": 20,
   "id": "9cb6433e-a8a7-4288-833c-9f15706db1b4",
   "metadata": {},
   "outputs": [
    {
     "name": "stdin",
     "output_type": "stream",
     "text": [
      "enter the first number 5\n",
      "enter the second number 4\n",
      "enter the third number 3\n"
     ]
    },
    {
     "name": "stdout",
     "output_type": "stream",
     "text": [
      "The greater number is 5\n"
     ]
    }
   ],
   "source": [
    "a=int(input(\"enter the first number\"))\n",
    "b=int(input(\"enter the second number\"))\n",
    "c=int(input(\"enter the third number\"))\n",
    "if( a>b and a>c):\n",
    "    print(f\"The greater number is {a}\")\n",
    "elif( b>c ):\n",
    "    print(f\"the greater number is {b}\")\n",
    "elif( c>a):\n",
    "    print(f\"the greater number is {c}\")\n",
    "else:\n",
    "    print(\"all the numbers are equal\")\n"
   ]
  },
  {
   "cell_type": "code",
   "execution_count": 22,
   "id": "45d8353e-4b7b-470d-9540-2bda7a2a6f14",
   "metadata": {},
   "outputs": [
    {
     "name": "stdin",
     "output_type": "stream",
     "text": [
      "enter the first number 8\n",
      "enter the second number 8\n",
      "enter the third number 8\n"
     ]
    },
    {
     "name": "stdout",
     "output_type": "stream",
     "text": [
      "the greater number is 8\n"
     ]
    }
   ],
   "source": [
    "a=int(input(\"enter the first number\"))\n",
    "b=int(input(\"enter the second number\"))\n",
    "c=int(input(\"enter the third number\"))\n",
    "if( a>b and a>c):\n",
    "    print(f\"The greater number is {a}\")\n",
    "elif( b>c and b>a ):\n",
    "    print(f\"the greater number is {b}\")\n",
    "else:\n",
    "    print(f\"the greater number is {c}\")"
   ]
  },
  {
   "cell_type": "markdown",
   "id": "292830a6-5c34-49e1-9647-8e697ad70a08",
   "metadata": {},
   "source": [
    "# Loops"
   ]
  },
  {
   "cell_type": "raw",
   "id": "3f32a18a-338e-4933-bd35-1d1e68dae95d",
   "metadata": {},
   "source": [
    "1.For loop\n",
    "2.while loop"
   ]
  },
  {
   "cell_type": "markdown",
   "id": "208140bc-fc29-4f52-ac43-957335be3ead",
   "metadata": {},
   "source": [
    "# Understanding the For loop syntax"
   ]
  },
  {
   "cell_type": "code",
   "execution_count": null,
   "id": "64f12487-dca4-4571-bee0-0e0c75cdb1a7",
   "metadata": {},
   "outputs": [],
   "source": [
    "for<variable> in <sequence>\n",
    "    <statement(s)>"
   ]
  },
  {
   "cell_type": "code",
   "execution_count": 33,
   "id": "97aad2e8-f62d-4f52-a009-44f5ca330a86",
   "metadata": {},
   "outputs": [
    {
     "name": "stdout",
     "output_type": "stream",
     "text": [
      "1\n",
      "2\n",
      "3\n",
      "4\n",
      "5\n",
      "6\n",
      "7\n",
      "8\n",
      "9\n"
     ]
    }
   ],
   "source": [
    "for i in range(1,10):\n",
    "    print(i)"
   ]
  },
  {
   "cell_type": "code",
   "execution_count": 41,
   "id": "de860d28-74b8-4af5-ac4d-a64f5d59e4d2",
   "metadata": {},
   "outputs": [
    {
     "name": "stdout",
     "output_type": "stream",
     "text": [
      "a\n",
      "a\n"
     ]
    }
   ],
   "source": [
    "for a in range(1,3):\n",
    "    print(\"a\")"
   ]
  },
  {
   "cell_type": "code",
   "execution_count": 42,
   "id": "9f6c523e-09be-4d22-86ff-7bdd9773a97a",
   "metadata": {},
   "outputs": [
    {
     "name": "stdout",
     "output_type": "stream",
     "text": [
      "this is even [1, 2, 3, 4, 5]\n",
      "this is odd [1, 2, 3, 4, 5]\n",
      "this is even [1, 2, 3, 4, 5]\n",
      "this is odd [1, 2, 3, 4, 5]\n",
      "this is even [1, 2, 3, 4, 5]\n"
     ]
    }
   ],
   "source": [
    "n = [1,2,3,4,5]\n",
    "for val in n:\n",
    "    if val%2==0:\n",
    "        print(\"this is odd\",n)\n",
    "    else:\n",
    "        print(\"this is even\",n)"
   ]
  },
  {
   "cell_type": "markdown",
   "id": "9e7eb343-cf96-4df1-a0da-e568cb2682b8",
   "metadata": {},
   "source": [
    "# Nested For loop"
   ]
  },
  {
   "cell_type": "code",
   "execution_count": 8,
   "id": "6ade9620-0fe8-4a30-b89e-3ebc84d5a39a",
   "metadata": {},
   "outputs": [
    {
     "name": "stdin",
     "output_type": "stream",
     "text": [
      "Enter the number of rows 8\n"
     ]
    },
    {
     "name": "stdout",
     "output_type": "stream",
     "text": [
      "1 \n",
      "2 3 \n",
      "4 5 6 \n",
      "7 8 9 10 \n",
      "11 12 13 14 15 \n",
      "16 17 18 19 20 21 \n",
      "22 23 24 25 26 27 28 \n",
      "29 30 31 32 33 34 35 36 \n"
     ]
    }
   ],
   "source": [
    "rows = int(input(\"Enter the number of rows\"))\n",
    "num = 1\n",
    "for i in range(1,rows+1):\n",
    "    for j in range(1,i+1):\n",
    "        print(num,end=\" \")\n",
    "        num += 1\n",
    "    print()"
   ]
  },
  {
   "cell_type": "code",
   "execution_count": 10,
   "id": "e102e3ba-48b6-4744-b38f-a0635a52b609",
   "metadata": {},
   "outputs": [
    {
     "name": "stdin",
     "output_type": "stream",
     "text": [
      "Enter the number of rows 8\n",
      "enter a number 1\n"
     ]
    },
    {
     "name": "stdout",
     "output_type": "stream",
     "text": [
      "1 \n",
      "2 3 \n",
      "4 5 6 \n",
      "7 8 9 10 \n",
      "11 12 13 14 15 \n",
      "16 17 18 19 20 21 \n",
      "22 23 24 25 26 27 28 \n",
      "29 30 31 32 33 34 35 36 \n"
     ]
    }
   ],
   "source": [
    "rows = int(input(\"Enter the number of rows\"))\n",
    "num = int(input(\"enter a number\"))\n",
    "\n",
    "for i in range(1,rows+1):\n",
    "    for j in range(1,i+1):\n",
    "        print(num,end=\" \")\n",
    "        num += 1\n",
    "    print()"
   ]
  },
  {
   "cell_type": "code",
   "execution_count": 12,
   "id": "08bd6761-4c41-411f-80b1-427f94435186",
   "metadata": {},
   "outputs": [
    {
     "name": "stdin",
     "output_type": "stream",
     "text": [
      "Enter the number of rows 4\n"
     ]
    },
    {
     "name": "stdout",
     "output_type": "stream",
     "text": [
      "* \n",
      "* * \n",
      "* * * \n",
      "* * * * \n"
     ]
    }
   ],
   "source": [
    "rows = int(input(\"Enter the number of rows\"))\n",
    "num = 2\n",
    "\n",
    "for i in range(1,rows+1):\n",
    "    for j in range(1,i+1):\n",
    "        print(\"*\",end=\" \")\n",
    "        num += 1\n",
    "    print()"
   ]
  },
  {
   "cell_type": "code",
   "execution_count": 13,
   "id": "1cdc1a78-8427-4b13-9be8-c0370ee5f79b",
   "metadata": {},
   "outputs": [
    {
     "name": "stdout",
     "output_type": "stream",
     "text": [
      "1\n",
      "2\n",
      "3\n",
      "4\n",
      "6\n",
      "7\n",
      "8\n"
     ]
    }
   ],
   "source": [
    "num = [1,2,3,4,5,6,7,8]\n",
    "\n",
    "for val in num:\n",
    "    if val%5 == 0:\n",
    "        continue\n",
    "    print(val)"
   ]
  },
  {
   "cell_type": "markdown",
   "id": "89cf44e8-839a-4a6f-86fb-61d64846b87d",
   "metadata": {},
   "source": [
    "# While loop"
   ]
  },
  {
   "cell_type": "code",
   "execution_count": 2,
   "id": "43386a6c-8260-49cb-a46b-59c9783a362e",
   "metadata": {},
   "outputs": [
    {
     "name": "stdin",
     "output_type": "stream",
     "text": [
      "enter the limit: 9\n"
     ]
    },
    {
     "name": "stdout",
     "output_type": "stream",
     "text": [
      "1\n",
      "2\n",
      "3\n",
      "4\n",
      "5\n",
      "6\n",
      "7\n",
      "8\n"
     ]
    }
   ],
   "source": [
    "n = int(input('enter the limit:'))\n",
    "i=1\n",
    "while i<n:\n",
    "    print(i)\n",
    "    i+=1"
   ]
  },
  {
   "cell_type": "code",
   "execution_count": 8,
   "id": "62820a7a-3c5d-46fa-b26b-9d466e67defa",
   "metadata": {},
   "outputs": [
    {
     "name": "stdin",
     "output_type": "stream",
     "text": [
      "enter the limit: 6\n"
     ]
    },
    {
     "name": "stdout",
     "output_type": "stream",
     "text": [
      "3\n",
      "5\n",
      "7\n",
      "9\n",
      "11\n"
     ]
    }
   ],
   "source": [
    "n = int(input('enter the limit:'))\n",
    "i=1\n",
    "while i<n:\n",
    "    print(i+i+1)\n",
    "    i+=1"
   ]
  },
  {
   "cell_type": "code",
   "execution_count": 7,
   "id": "fcba8658-2afb-4c08-bc71-3ad3325cd4bf",
   "metadata": {},
   "outputs": [
    {
     "name": "stdin",
     "output_type": "stream",
     "text": [
      "enter the limit: 8\n"
     ]
    },
    {
     "name": "stdout",
     "output_type": "stream",
     "text": [
      "3\n",
      "5\n",
      "7\n",
      "9\n",
      "11\n",
      "13\n",
      "15\n"
     ]
    }
   ],
   "source": [
    "n = int(input('enter the limit:'))\n",
    "i=1\n",
    "while i<n:\n",
    "    print(i+i+1)\n",
    "    i+=1"
   ]
  },
  {
   "cell_type": "markdown",
   "id": "63da576f-6921-4c54-9912-94158173860f",
   "metadata": {},
   "source": [
    "# Functions"
   ]
  },
  {
   "cell_type": "code",
   "execution_count": null,
   "id": "b0f05249-71a0-432a-9965-0d857625d771",
   "metadata": {},
   "outputs": [],
   "source": [
    "def <funtion_name>(parameters):\n",
    "    DOC string\n",
    "    <statement(s)>"
   ]
  },
  {
   "cell_type": "code",
   "execution_count": 4,
   "id": "5b4684a1-0974-461d-9218-46802df2a29b",
   "metadata": {},
   "outputs": [],
   "source": [
    "def add(a,b,c):\n",
    "    total = a+b+c\n",
    "    return total"
   ]
  },
  {
   "cell_type": "code",
   "execution_count": 5,
   "id": "e5081434-c350-45ed-a628-d4d8a69fa5a6",
   "metadata": {},
   "outputs": [
    {
     "data": {
      "text/plain": [
       "15"
      ]
     },
     "execution_count": 5,
     "metadata": {},
     "output_type": "execute_result"
    }
   ],
   "source": [
    "add(3,5,7)"
   ]
  },
  {
   "cell_type": "code",
   "execution_count": 6,
   "id": "61b159de-db89-42da-9d43-a938f3dd20c5",
   "metadata": {},
   "outputs": [
    {
     "data": {
      "text/plain": [
       "300"
      ]
     },
     "execution_count": 6,
     "metadata": {},
     "output_type": "execute_result"
    }
   ],
   "source": [
    "add(100,100,100)"
   ]
  },
  {
   "cell_type": "code",
   "execution_count": null,
   "id": "07627068-5158-4f26-8b55-c22324c4e554",
   "metadata": {},
   "outputs": [],
   "source": []
  }
 ],
 "metadata": {
  "kernelspec": {
   "display_name": "Python 3 (ipykernel)",
   "language": "python",
   "name": "python3"
  },
  "language_info": {
   "codemirror_mode": {
    "name": "ipython",
    "version": 3
   },
   "file_extension": ".py",
   "mimetype": "text/x-python",
   "name": "python",
   "nbconvert_exporter": "python",
   "pygments_lexer": "ipython3",
   "version": "3.9.19"
  }
 },
 "nbformat": 4,
 "nbformat_minor": 5
}
