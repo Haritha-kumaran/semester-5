{
 "cells": [
  {
   "cell_type": "code",
   "execution_count": 1,
   "id": "430ef006-874a-4a36-9aa4-d0ac46153364",
   "metadata": {},
   "outputs": [
    {
     "name": "stdout",
     "output_type": "stream",
     "text": [
      "Requirement already satisfied: numpy==1.26.4 in c:\\users\\aedur\\anaconda3\\envs\\haritha\\lib\\site-packages (1.26.4)\n",
      "Note: you may need to restart the kernel to use updated packages.\n"
     ]
    }
   ],
   "source": [
    "pip install numpy==1.26.4"
   ]
  },
  {
   "cell_type": "code",
   "execution_count": 2,
   "id": "c9a80fc3-756b-4fef-a589-a0e0bc1cf4b7",
   "metadata": {},
   "outputs": [],
   "source": [
    "import numpy as np"
   ]
  },
  {
   "cell_type": "code",
   "execution_count": 3,
   "id": "eb25ff4a-5836-47d0-aaa2-50e8cb113bdc",
   "metadata": {},
   "outputs": [
    {
     "data": {
      "text/plain": [
       "'1.26.4'"
      ]
     },
     "execution_count": 3,
     "metadata": {},
     "output_type": "execute_result"
    }
   ],
   "source": [
    "np.__version__"
   ]
  },
  {
   "cell_type": "code",
   "execution_count": 4,
   "id": "1044abbb-73dd-4676-b05f-a446762d299c",
   "metadata": {},
   "outputs": [],
   "source": [
    "a = np.array([1,2,3,4,5])"
   ]
  },
  {
   "cell_type": "code",
   "execution_count": 5,
   "id": "55e524b8-a8a2-4f8a-b631-592f75e898bb",
   "metadata": {},
   "outputs": [
    {
     "data": {
      "text/plain": [
       "array([1, 2, 3, 4, 5])"
      ]
     },
     "execution_count": 5,
     "metadata": {},
     "output_type": "execute_result"
    }
   ],
   "source": [
    "a"
   ]
  },
  {
   "cell_type": "code",
   "execution_count": 6,
   "id": "30f0a47e-1f64-4229-9023-701730a5863e",
   "metadata": {},
   "outputs": [
    {
     "name": "stdout",
     "output_type": "stream",
     "text": [
      "[1 2 3 4 5]\n"
     ]
    }
   ],
   "source": [
    "print(a)"
   ]
  },
  {
   "cell_type": "code",
   "execution_count": 7,
   "id": "f4b51276-1087-4624-87d2-d53910aa9572",
   "metadata": {},
   "outputs": [
    {
     "data": {
      "text/plain": [
       "dtype('int32')"
      ]
     },
     "execution_count": 7,
     "metadata": {},
     "output_type": "execute_result"
    }
   ],
   "source": [
    "a.dtype"
   ]
  },
  {
   "cell_type": "code",
   "execution_count": 8,
   "id": "af0930b9-d379-4307-88a4-9c6940950ea6",
   "metadata": {},
   "outputs": [],
   "source": [
    "b = np.array([1,2.45,3,4,5])"
   ]
  },
  {
   "cell_type": "code",
   "execution_count": 9,
   "id": "9512a29b-6329-4ddc-a941-41e3159350e9",
   "metadata": {},
   "outputs": [
    {
     "name": "stdout",
     "output_type": "stream",
     "text": [
      "[1.   2.45 3.   4.   5.  ]\n"
     ]
    }
   ],
   "source": [
    "print(b)"
   ]
  },
  {
   "cell_type": "code",
   "execution_count": 10,
   "id": "dad2cf1c-1adf-4981-8fea-33dbcc71a3b8",
   "metadata": {},
   "outputs": [
    {
     "data": {
      "text/plain": [
       "dtype('float64')"
      ]
     },
     "execution_count": 10,
     "metadata": {},
     "output_type": "execute_result"
    }
   ],
   "source": [
    "b.dtype"
   ]
  },
  {
   "cell_type": "code",
   "execution_count": 11,
   "id": "945b8f04-1312-4d1b-b3fe-750983f84146",
   "metadata": {},
   "outputs": [
    {
     "data": {
      "text/plain": [
       "(5,)"
      ]
     },
     "execution_count": 11,
     "metadata": {},
     "output_type": "execute_result"
    }
   ],
   "source": [
    "a.shape"
   ]
  },
  {
   "cell_type": "code",
   "execution_count": 12,
   "id": "0aeb1070-f127-493f-8dc1-ee2602c210d1",
   "metadata": {},
   "outputs": [
    {
     "data": {
      "text/plain": [
       "(5,)"
      ]
     },
     "execution_count": 12,
     "metadata": {},
     "output_type": "execute_result"
    }
   ],
   "source": [
    "b.shape"
   ]
  },
  {
   "cell_type": "code",
   "execution_count": 13,
   "id": "8d5950d9-a966-4415-9dfe-83b12dabec8e",
   "metadata": {},
   "outputs": [
    {
     "data": {
      "text/plain": [
       "5"
      ]
     },
     "execution_count": 13,
     "metadata": {},
     "output_type": "execute_result"
    }
   ],
   "source": [
    "a.size"
   ]
  },
  {
   "cell_type": "code",
   "execution_count": 14,
   "id": "f9d52cdb-ad68-4401-ac61-5fca533bb5ca",
   "metadata": {
    "scrolled": true
   },
   "outputs": [
    {
     "data": {
      "text/plain": [
       "1"
      ]
     },
     "execution_count": 14,
     "metadata": {},
     "output_type": "execute_result"
    }
   ],
   "source": [
    "a.min()"
   ]
  },
  {
   "cell_type": "code",
   "execution_count": 15,
   "id": "fd8ddac0-dbd8-422e-9d1f-192243c887c7",
   "metadata": {},
   "outputs": [
    {
     "data": {
      "text/plain": [
       "5"
      ]
     },
     "execution_count": 15,
     "metadata": {},
     "output_type": "execute_result"
    }
   ],
   "source": [
    "a.max()"
   ]
  },
  {
   "cell_type": "code",
   "execution_count": 16,
   "id": "df4b2593-1cdf-4c0f-9f00-b5a29bf6e405",
   "metadata": {},
   "outputs": [
    {
     "data": {
      "text/plain": [
       "4.0"
      ]
     },
     "execution_count": 16,
     "metadata": {},
     "output_type": "execute_result"
    }
   ],
   "source": [
    "b[3]"
   ]
  },
  {
   "cell_type": "code",
   "execution_count": 17,
   "id": "16d096d8-bd93-4eee-9f46-a6d6c883e2b4",
   "metadata": {},
   "outputs": [],
   "source": [
    "b[3]=6"
   ]
  },
  {
   "cell_type": "code",
   "execution_count": 18,
   "id": "616fc946-b159-42fb-8499-5093b680d9cf",
   "metadata": {},
   "outputs": [
    {
     "data": {
      "text/plain": [
       "array([1.  , 2.45, 3.  , 6.  , 5.  ])"
      ]
     },
     "execution_count": 18,
     "metadata": {},
     "output_type": "execute_result"
    }
   ],
   "source": [
    "b"
   ]
  },
  {
   "cell_type": "code",
   "execution_count": 19,
   "id": "e7713cde-93e5-446f-8c07-b0ae470661c7",
   "metadata": {},
   "outputs": [
    {
     "data": {
      "text/plain": [
       "5.0"
      ]
     },
     "execution_count": 19,
     "metadata": {},
     "output_type": "execute_result"
    }
   ],
   "source": [
    "b[-1]"
   ]
  },
  {
   "cell_type": "code",
   "execution_count": 20,
   "id": "2ea0c538-e7b8-4a92-854f-c7813e8b37df",
   "metadata": {},
   "outputs": [
    {
     "data": {
      "text/plain": [
       "1.0"
      ]
     },
     "execution_count": 20,
     "metadata": {},
     "output_type": "execute_result"
    }
   ],
   "source": [
    "b[-5]"
   ]
  },
  {
   "cell_type": "code",
   "execution_count": 21,
   "id": "62a9d805-c39c-4af9-b21c-f4bd1c50f635",
   "metadata": {},
   "outputs": [
    {
     "data": {
      "text/plain": [
       "array([2.45, 3.  ])"
      ]
     },
     "execution_count": 21,
     "metadata": {},
     "output_type": "execute_result"
    }
   ],
   "source": [
    "b[1:3]"
   ]
  },
  {
   "cell_type": "code",
   "execution_count": 22,
   "id": "d9d98ce6-d3ce-4bd9-8507-6102f370a698",
   "metadata": {},
   "outputs": [],
   "source": [
    "arr = np.array([[1,2,3], [4,5,6]])"
   ]
  },
  {
   "cell_type": "code",
   "execution_count": 23,
   "id": "063118f0-161c-4b6f-8f00-3532ceb1e827",
   "metadata": {},
   "outputs": [
    {
     "data": {
      "text/plain": [
       "array([[1, 2, 3],\n",
       "       [4, 5, 6]])"
      ]
     },
     "execution_count": 23,
     "metadata": {},
     "output_type": "execute_result"
    }
   ],
   "source": [
    "arr"
   ]
  },
  {
   "cell_type": "code",
   "execution_count": 24,
   "id": "aa9bbc77-1541-4d08-b084-02d8df711d4d",
   "metadata": {},
   "outputs": [
    {
     "data": {
      "text/plain": [
       "(2, 3)"
      ]
     },
     "execution_count": 24,
     "metadata": {},
     "output_type": "execute_result"
    }
   ],
   "source": [
    "arr.shape"
   ]
  },
  {
   "cell_type": "code",
   "execution_count": 25,
   "id": "1da6ddc2-ccf4-47b3-9bad-45855dd5bcf7",
   "metadata": {},
   "outputs": [],
   "source": [
    "arr[0][1]=7"
   ]
  },
  {
   "cell_type": "code",
   "execution_count": 26,
   "id": "d0b92713-c73a-4166-8542-49fc3bc0b3c2",
   "metadata": {},
   "outputs": [
    {
     "data": {
      "text/plain": [
       "array([[1, 7, 3],\n",
       "       [4, 5, 6]])"
      ]
     },
     "execution_count": 26,
     "metadata": {},
     "output_type": "execute_result"
    }
   ],
   "source": [
    "arr"
   ]
  },
  {
   "cell_type": "code",
   "execution_count": 27,
   "id": "66191f55-59de-45e2-a57b-df443a716406",
   "metadata": {},
   "outputs": [],
   "source": [
    "new=np.transpose(arr)"
   ]
  },
  {
   "cell_type": "code",
   "execution_count": 28,
   "id": "bcb663bf-2688-4b3d-a4ab-e69e5a5058f9",
   "metadata": {},
   "outputs": [
    {
     "data": {
      "text/plain": [
       "array([[1, 4],\n",
       "       [7, 5],\n",
       "       [3, 6]])"
      ]
     },
     "execution_count": 28,
     "metadata": {},
     "output_type": "execute_result"
    }
   ],
   "source": [
    "new"
   ]
  },
  {
   "cell_type": "code",
   "execution_count": 29,
   "id": "b1e27a2a-b8bc-4e59-a572-c3166a44d439",
   "metadata": {},
   "outputs": [
    {
     "data": {
      "text/plain": [
       "array([1, 4, 7, 5, 3, 6])"
      ]
     },
     "execution_count": 29,
     "metadata": {},
     "output_type": "execute_result"
    }
   ],
   "source": [
    "new.ravel()"
   ]
  },
  {
   "cell_type": "code",
   "execution_count": 30,
   "id": "db97dc5e-b9f9-4344-bddc-c128a06d1db5",
   "metadata": {},
   "outputs": [
    {
     "data": {
      "text/plain": [
       "array([1, 7, 3, 4, 5, 6])"
      ]
     },
     "execution_count": 30,
     "metadata": {},
     "output_type": "execute_result"
    }
   ],
   "source": [
    "arr.ravel()"
   ]
  },
  {
   "cell_type": "code",
   "execution_count": 31,
   "id": "681e4234-e579-4483-9814-3f79e2913da8",
   "metadata": {},
   "outputs": [
    {
     "data": {
      "text/plain": [
       "array([[1, 7],\n",
       "       [3, 4],\n",
       "       [5, 6]])"
      ]
     },
     "execution_count": 31,
     "metadata": {},
     "output_type": "execute_result"
    }
   ],
   "source": [
    "arr.reshape(3,2)"
   ]
  },
  {
   "cell_type": "code",
   "execution_count": 32,
   "id": "80ef23ce-c09d-484f-a01f-be5eddade70b",
   "metadata": {},
   "outputs": [
    {
     "data": {
      "text/plain": [
       "array([[1, 7, 3],\n",
       "       [4, 5, 6]])"
      ]
     },
     "execution_count": 32,
     "metadata": {},
     "output_type": "execute_result"
    }
   ],
   "source": [
    "arr.reshape(2,3)"
   ]
  },
  {
   "cell_type": "code",
   "execution_count": 33,
   "id": "a17706e3-05f1-44d2-bdd7-f6c1185f052a",
   "metadata": {},
   "outputs": [
    {
     "data": {
      "text/plain": [
       "array([[1],\n",
       "       [7],\n",
       "       [3],\n",
       "       [4],\n",
       "       [5],\n",
       "       [6]])"
      ]
     },
     "execution_count": 33,
     "metadata": {},
     "output_type": "execute_result"
    }
   ],
   "source": [
    "arr.reshape(6,1)"
   ]
  },
  {
   "cell_type": "code",
   "execution_count": 34,
   "id": "3b1032a1-6088-411c-811e-64fb7d5f73a0",
   "metadata": {},
   "outputs": [
    {
     "data": {
      "text/plain": [
       "array([[1, 7, 3, 4, 5, 6]])"
      ]
     },
     "execution_count": 34,
     "metadata": {},
     "output_type": "execute_result"
    }
   ],
   "source": [
    "arr.reshape(1,6)"
   ]
  },
  {
   "cell_type": "code",
   "execution_count": 35,
   "id": "053da6e7-3439-4af5-9233-a44685e14f1e",
   "metadata": {},
   "outputs": [],
   "source": [
    "threed=np.array([[1,2,3], [4,5,6],[7,8,9]])"
   ]
  },
  {
   "cell_type": "code",
   "execution_count": 36,
   "id": "5cc9bc72-7a45-4ee5-a769-e5828f11b12a",
   "metadata": {},
   "outputs": [
    {
     "data": {
      "text/plain": [
       "array([[1, 2, 3],\n",
       "       [4, 5, 6],\n",
       "       [7, 8, 9]])"
      ]
     },
     "execution_count": 36,
     "metadata": {},
     "output_type": "execute_result"
    }
   ],
   "source": [
    "threed"
   ]
  },
  {
   "cell_type": "code",
   "execution_count": 37,
   "id": "5d720304-10e3-438d-ae23-6560ddff0124",
   "metadata": {},
   "outputs": [],
   "source": [
    "t=threed.transpose()"
   ]
  },
  {
   "cell_type": "code",
   "execution_count": 38,
   "id": "821aac7c-88f9-4b00-be9a-e262d7beafbe",
   "metadata": {},
   "outputs": [
    {
     "data": {
      "text/plain": [
       "array([[1, 4, 7],\n",
       "       [2, 5, 8],\n",
       "       [3, 6, 9]])"
      ]
     },
     "execution_count": 38,
     "metadata": {},
     "output_type": "execute_result"
    }
   ],
   "source": [
    "t"
   ]
  },
  {
   "cell_type": "code",
   "execution_count": 39,
   "id": "2f9d3c09-e2fc-4348-b38c-b1aa4f1307a2",
   "metadata": {},
   "outputs": [
    {
     "data": {
      "text/plain": [
       "array([1, 2, 3, 4, 5, 6, 7, 8, 9])"
      ]
     },
     "execution_count": 39,
     "metadata": {},
     "output_type": "execute_result"
    }
   ],
   "source": [
    "threed.ravel()"
   ]
  },
  {
   "cell_type": "code",
   "execution_count": 40,
   "id": "659bb3e2-ed28-4d25-9588-e63c2af7149c",
   "metadata": {},
   "outputs": [
    {
     "data": {
      "text/plain": [
       "array([1, 4, 7, 2, 5, 8, 3, 6, 9])"
      ]
     },
     "execution_count": 40,
     "metadata": {},
     "output_type": "execute_result"
    }
   ],
   "source": [
    "t.ravel()"
   ]
  },
  {
   "cell_type": "code",
   "execution_count": 41,
   "id": "10136929-d1a5-4460-9167-b0ec4d3f4165",
   "metadata": {},
   "outputs": [
    {
     "data": {
      "text/plain": [
       "array([[1],\n",
       "       [4],\n",
       "       [7],\n",
       "       [2],\n",
       "       [5],\n",
       "       [8],\n",
       "       [3],\n",
       "       [6],\n",
       "       [9]])"
      ]
     },
     "execution_count": 41,
     "metadata": {},
     "output_type": "execute_result"
    }
   ],
   "source": [
    "t.reshape(9,1)"
   ]
  },
  {
   "cell_type": "code",
   "execution_count": 42,
   "id": "2d824599-1b0e-46ed-a40c-b084abe67c06",
   "metadata": {},
   "outputs": [],
   "source": [
    "threed=np.array([[1,2,3], [4,5,6],[7,8,9]])"
   ]
  },
  {
   "cell_type": "code",
   "execution_count": 43,
   "id": "19c63d13-b19d-4891-8872-a13e0566496a",
   "metadata": {},
   "outputs": [
    {
     "data": {
      "text/plain": [
       "2"
      ]
     },
     "execution_count": 43,
     "metadata": {},
     "output_type": "execute_result"
    }
   ],
   "source": [
    "threed.ndim"
   ]
  },
  {
   "cell_type": "code",
   "execution_count": 44,
   "id": "aad3f6a3-52c9-4daa-8d21-99bcfc359f64",
   "metadata": {},
   "outputs": [],
   "source": [
    "threed=np.array([[[1,2,3], [4,5,6],[7,8,9]]])"
   ]
  },
  {
   "cell_type": "code",
   "execution_count": 45,
   "id": "72e719d9-4924-4d42-94e2-5cc44c2b2218",
   "metadata": {},
   "outputs": [
    {
     "data": {
      "text/plain": [
       "3"
      ]
     },
     "execution_count": 45,
     "metadata": {},
     "output_type": "execute_result"
    }
   ],
   "source": [
    "threed.ndim"
   ]
  },
  {
   "cell_type": "code",
   "execution_count": 46,
   "id": "0ce687c7-fab5-45ab-a0a8-f25435e8e735",
   "metadata": {},
   "outputs": [
    {
     "data": {
      "text/plain": [
       "array([[[1, 2, 3],\n",
       "        [4, 5, 6],\n",
       "        [7, 8, 9]]])"
      ]
     },
     "execution_count": 46,
     "metadata": {},
     "output_type": "execute_result"
    }
   ],
   "source": [
    "threed"
   ]
  },
  {
   "cell_type": "code",
   "execution_count": 47,
   "id": "5d34e77d-a730-4907-88c4-485ee2ebb825",
   "metadata": {},
   "outputs": [],
   "source": [
    "threed[0][1]=12"
   ]
  },
  {
   "cell_type": "code",
   "execution_count": 48,
   "id": "de59b260-843a-4f7a-ab58-8a68cab4bfd9",
   "metadata": {},
   "outputs": [
    {
     "data": {
      "text/plain": [
       "array([[[ 1,  2,  3],\n",
       "        [12, 12, 12],\n",
       "        [ 7,  8,  9]]])"
      ]
     },
     "execution_count": 48,
     "metadata": {},
     "output_type": "execute_result"
    }
   ],
   "source": [
    "threed"
   ]
  },
  {
   "cell_type": "code",
   "execution_count": 49,
   "id": "d7284bcb-32a8-423c-b99f-dbbc3c69df89",
   "metadata": {},
   "outputs": [],
   "source": [
    "threed[0][2]=12"
   ]
  },
  {
   "cell_type": "code",
   "execution_count": 50,
   "id": "4351739b-8f8f-4be5-a3ce-5537d0004a04",
   "metadata": {},
   "outputs": [
    {
     "data": {
      "text/plain": [
       "array([[[ 1,  2,  3],\n",
       "        [12, 12, 12],\n",
       "        [12, 12, 12]]])"
      ]
     },
     "execution_count": 50,
     "metadata": {},
     "output_type": "execute_result"
    }
   ],
   "source": [
    "threed"
   ]
  },
  {
   "cell_type": "code",
   "execution_count": 51,
   "id": "8a7ece44-2bfc-4375-b193-431b2877cafc",
   "metadata": {},
   "outputs": [],
   "source": [
    "A=np.zeros((2,2))"
   ]
  },
  {
   "cell_type": "code",
   "execution_count": 52,
   "id": "96039a4a-e7ce-4588-8042-0682e72c24e5",
   "metadata": {},
   "outputs": [
    {
     "data": {
      "text/plain": [
       "array([[0., 0.],\n",
       "       [0., 0.]])"
      ]
     },
     "execution_count": 52,
     "metadata": {},
     "output_type": "execute_result"
    }
   ],
   "source": [
    "A"
   ]
  },
  {
   "cell_type": "code",
   "execution_count": 53,
   "id": "bc24eace-5663-4745-9fd3-c74eb74c17da",
   "metadata": {},
   "outputs": [
    {
     "data": {
      "text/plain": [
       "array([[1, 4, 7],\n",
       "       [2, 5, 8],\n",
       "       [3, 6, 9]])"
      ]
     },
     "execution_count": 53,
     "metadata": {},
     "output_type": "execute_result"
    }
   ],
   "source": [
    "t"
   ]
  },
  {
   "cell_type": "code",
   "execution_count": 54,
   "id": "795da1cd-90da-4b4c-8257-b7e460a03b8e",
   "metadata": {},
   "outputs": [
    {
     "data": {
      "text/plain": [
       "5"
      ]
     },
     "execution_count": 54,
     "metadata": {},
     "output_type": "execute_result"
    }
   ],
   "source": [
    "t[1][1]"
   ]
  },
  {
   "cell_type": "code",
   "execution_count": 55,
   "id": "09ae7dd5-f82a-44d9-aa08-fdb3edede51c",
   "metadata": {},
   "outputs": [],
   "source": [
    "t[1][1]=10"
   ]
  },
  {
   "cell_type": "code",
   "execution_count": 56,
   "id": "709a89b0-d87a-41da-a402-c49713555021",
   "metadata": {},
   "outputs": [
    {
     "data": {
      "text/plain": [
       "array([[ 1,  4,  7],\n",
       "       [ 2, 10,  8],\n",
       "       [ 3,  6,  9]])"
      ]
     },
     "execution_count": 56,
     "metadata": {},
     "output_type": "execute_result"
    }
   ],
   "source": [
    "t"
   ]
  },
  {
   "cell_type": "code",
   "execution_count": 57,
   "id": "fe68fe47-cd11-44c3-9125-1f431877838e",
   "metadata": {},
   "outputs": [],
   "source": [
    "t[0][1]=11"
   ]
  },
  {
   "cell_type": "code",
   "execution_count": 58,
   "id": "8f1604c2-fa1f-467b-9782-4e0727b22d47",
   "metadata": {},
   "outputs": [
    {
     "data": {
      "text/plain": [
       "array([[ 1, 11,  7],\n",
       "       [ 2, 10,  8],\n",
       "       [ 3,  6,  9]])"
      ]
     },
     "execution_count": 58,
     "metadata": {},
     "output_type": "execute_result"
    }
   ],
   "source": [
    "t"
   ]
  },
  {
   "cell_type": "code",
   "execution_count": 59,
   "id": "3e058c9f-10c6-4863-90f3-d2629586069b",
   "metadata": {},
   "outputs": [],
   "source": [
    "t[0][2]=12"
   ]
  },
  {
   "cell_type": "code",
   "execution_count": 62,
   "id": "b2330676-099a-46eb-ab84-1f73a61f6b89",
   "metadata": {},
   "outputs": [
    {
     "data": {
      "text/plain": [
       "array([[ 1, 11, 12],\n",
       "       [ 2, 10,  8],\n",
       "       [ 3,  6,  9]])"
      ]
     },
     "execution_count": 62,
     "metadata": {},
     "output_type": "execute_result"
    }
   ],
   "source": [
    "t"
   ]
  },
  {
   "cell_type": "code",
   "execution_count": 61,
   "id": "aa80387f-6f54-47d0-8904-c588dadffa6c",
   "metadata": {},
   "outputs": [
    {
     "data": {
      "text/plain": [
       "array([ 1, 11, 12,  2, 10,  8,  3,  6,  9])"
      ]
     },
     "execution_count": 61,
     "metadata": {},
     "output_type": "execute_result"
    }
   ],
   "source": [
    "t.ravel()"
   ]
  },
  {
   "cell_type": "code",
   "execution_count": 63,
   "id": "4597c630-c89a-4f9c-b6f9-49b7239d3010",
   "metadata": {},
   "outputs": [
    {
     "data": {
      "text/plain": [
       "array([ 1, 11, 12,  2, 10,  8,  3,  6,  9,  3])"
      ]
     },
     "execution_count": 63,
     "metadata": {},
     "output_type": "execute_result"
    }
   ],
   "source": [
    "np.append(t,3)"
   ]
  },
  {
   "cell_type": "code",
   "execution_count": 64,
   "id": "0831797e-9797-4b15-bc57-a8b3222282f1",
   "metadata": {},
   "outputs": [],
   "source": [
    "t=np.insert(t,1,2)"
   ]
  },
  {
   "cell_type": "code",
   "execution_count": 65,
   "id": "922d6571-767a-4d5b-afcc-b9abca9751a9",
   "metadata": {},
   "outputs": [
    {
     "data": {
      "text/plain": [
       "array([ 1,  2, 11, 12,  2, 10,  8,  3,  6,  9])"
      ]
     },
     "execution_count": 65,
     "metadata": {},
     "output_type": "execute_result"
    }
   ],
   "source": [
    "t"
   ]
  },
  {
   "cell_type": "code",
   "execution_count": 74,
   "id": "45e98cae-bea5-4240-9c0a-49d0d6ebe1cc",
   "metadata": {},
   "outputs": [],
   "source": [
    "c=[1,2,3,4,5]"
   ]
  },
  {
   "cell_type": "code",
   "execution_count": 75,
   "id": "88537649-8e31-4ded-b4db-de94020f73ad",
   "metadata": {},
   "outputs": [
    {
     "data": {
      "text/plain": [
       "3.0"
      ]
     },
     "execution_count": 75,
     "metadata": {},
     "output_type": "execute_result"
    }
   ],
   "source": [
    "np.median(c)"
   ]
  },
  {
   "cell_type": "code",
   "execution_count": 76,
   "id": "9680f11b-6dbc-44c0-9a20-c0c6cf376b45",
   "metadata": {},
   "outputs": [
    {
     "data": {
      "text/plain": [
       "3.0"
      ]
     },
     "execution_count": 76,
     "metadata": {},
     "output_type": "execute_result"
    }
   ],
   "source": [
    "np.mean(c)"
   ]
  },
  {
   "cell_type": "code",
   "execution_count": 81,
   "id": "9779214b-b258-4216-bf3a-3b7620274f49",
   "metadata": {},
   "outputs": [
    {
     "ename": "AttributeError",
     "evalue": "module 'numpy' has no attribute 'mode'",
     "output_type": "error",
     "traceback": [
      "\u001b[1;31m---------------------------------------------------------------------------\u001b[0m",
      "\u001b[1;31mAttributeError\u001b[0m                            Traceback (most recent call last)",
      "Cell \u001b[1;32mIn[81], line 1\u001b[0m\n\u001b[1;32m----> 1\u001b[0m \u001b[43mnp\u001b[49m\u001b[38;5;241;43m.\u001b[39;49m\u001b[43mmode\u001b[49m(c)\n",
      "File \u001b[1;32m~\\anaconda3\\envs\\Haritha\\lib\\site-packages\\numpy\\__init__.py:362\u001b[0m, in \u001b[0;36m__getattr__\u001b[1;34m(attr)\u001b[0m\n\u001b[0;32m    359\u001b[0m     \u001b[38;5;124m\"\u001b[39m\u001b[38;5;124mRemoved in NumPy 1.25.0\u001b[39m\u001b[38;5;124m\"\u001b[39m\n\u001b[0;32m    360\u001b[0m     \u001b[38;5;28;01mraise\u001b[39;00m \u001b[38;5;167;01mRuntimeError\u001b[39;00m(\u001b[38;5;124m\"\u001b[39m\u001b[38;5;124mTester was removed in NumPy 1.25.\u001b[39m\u001b[38;5;124m\"\u001b[39m)\n\u001b[1;32m--> 362\u001b[0m \u001b[38;5;28;01mraise\u001b[39;00m \u001b[38;5;167;01mAttributeError\u001b[39;00m(\u001b[38;5;124m\"\u001b[39m\u001b[38;5;124mmodule \u001b[39m\u001b[38;5;132;01m{!r}\u001b[39;00m\u001b[38;5;124m has no attribute \u001b[39m\u001b[38;5;124m\"\u001b[39m\n\u001b[0;32m    363\u001b[0m                      \u001b[38;5;124m\"\u001b[39m\u001b[38;5;132;01m{!r}\u001b[39;00m\u001b[38;5;124m\"\u001b[39m\u001b[38;5;241m.\u001b[39mformat(\u001b[38;5;18m__name__\u001b[39m, attr))\n",
      "\u001b[1;31mAttributeError\u001b[0m: module 'numpy' has no attribute 'mode'"
     ]
    }
   ],
   "source": [
    "np.mode(c)"
   ]
  },
  {
   "cell_type": "code",
   "execution_count": null,
   "id": "c50ad64c-52a5-49d7-9f24-7ce71cedd68b",
   "metadata": {},
   "outputs": [],
   "source": []
  },
  {
   "cell_type": "code",
   "execution_count": null,
   "id": "c941faad-636c-418c-95f0-d2215b746bab",
   "metadata": {},
   "outputs": [],
   "source": []
  },
  {
   "cell_type": "code",
   "execution_count": null,
   "id": "8c82dc51-81b1-4dcc-9ee0-6c5b943f2870",
   "metadata": {},
   "outputs": [],
   "source": []
  },
  {
   "cell_type": "code",
   "execution_count": null,
   "id": "d395e84a-5f5c-4f26-bd06-09e2a19ccd6b",
   "metadata": {},
   "outputs": [],
   "source": []
  },
  {
   "cell_type": "code",
   "execution_count": null,
   "id": "09c51815-233a-4e63-a5a8-6b69f926dbe2",
   "metadata": {},
   "outputs": [],
   "source": []
  },
  {
   "cell_type": "code",
   "execution_count": null,
   "id": "cb7a8ace-ea83-4df7-8439-424ac3e99fd9",
   "metadata": {},
   "outputs": [],
   "source": []
  },
  {
   "cell_type": "code",
   "execution_count": null,
   "id": "12392c97-6adb-419b-96dd-271cc0a5b08a",
   "metadata": {},
   "outputs": [],
   "source": []
  },
  {
   "cell_type": "code",
   "execution_count": null,
   "id": "7f4dcabf-a04c-4421-b5b7-e4367a089260",
   "metadata": {},
   "outputs": [],
   "source": []
  }
 ],
 "metadata": {
  "kernelspec": {
   "display_name": "Python 3 (ipykernel)",
   "language": "python",
   "name": "python3"
  },
  "language_info": {
   "codemirror_mode": {
    "name": "ipython",
    "version": 3
   },
   "file_extension": ".py",
   "mimetype": "text/x-python",
   "name": "python",
   "nbconvert_exporter": "python",
   "pygments_lexer": "ipython3",
   "version": "3.9.19"
  }
 },
 "nbformat": 4,
 "nbformat_minor": 5
}
