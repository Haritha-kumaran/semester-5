{
 "cells": [
  {
   "cell_type": "code",
   "execution_count": 44,
   "id": "55bf234f-c173-4eec-bf5c-b98c2886a161",
   "metadata": {},
   "outputs": [],
   "source": [
    "colours=[\"red\",\"orange\",\"grey\",\"yellow\",\"blue\",\"green\",\"red\",\"pale blue\",\"pink\",\"pink\"]\n",
    "def remove(colour):\n",
    "    unique_colours=[]\n",
    "    for colour in colours :\n",
    "         if (colour not in unique_colours ):\n",
    "              unique_colours.append(colour)\n",
    "    print(unique_colours)\n",
    "            "
   ]
  },
  {
   "cell_type": "code",
   "execution_count": 47,
   "id": "58f5fa54-e8b5-49a5-9f87-d8597eed72d9",
   "metadata": {},
   "outputs": [
    {
     "name": "stdout",
     "output_type": "stream",
     "text": [
      "['red', 'orange', 'grey', 'yellow', 'blue', 'green', 'pale blue', 'pink']\n"
     ]
    }
   ],
   "source": [
    "remove(colours)"
   ]
  },
  {
   "cell_type": "code",
   "execution_count": null,
   "id": "09c7ecbb-b306-42b6-bd31-5df021ae8016",
   "metadata": {},
   "outputs": [],
   "source": []
  }
 ],
 "metadata": {
  "kernelspec": {
   "display_name": "Python 3 (ipykernel)",
   "language": "python",
   "name": "python3"
  },
  "language_info": {
   "codemirror_mode": {
    "name": "ipython",
    "version": 3
   },
   "file_extension": ".py",
   "mimetype": "text/x-python",
   "name": "python",
   "nbconvert_exporter": "python",
   "pygments_lexer": "ipython3",
   "version": "3.9.19"
  }
 },
 "nbformat": 4,
 "nbformat_minor": 5
}
